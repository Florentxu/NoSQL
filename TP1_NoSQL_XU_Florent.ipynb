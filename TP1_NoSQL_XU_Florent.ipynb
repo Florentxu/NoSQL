{
 "cells": [
  {
   "cell_type": "code",
   "execution_count": 1,
   "metadata": {},
   "outputs": [],
   "source": [
    "from pymongo import MongoClient\n",
    "from pprint import pprint, PrettyPrinter"
   ]
  },
  {
   "cell_type": "code",
   "execution_count": 2,
   "metadata": {},
   "outputs": [
    {
     "name": "stdout",
     "output_type": "stream",
     "text": [
      "connexion success\n"
     ]
    }
   ],
   "source": [
    "client = MongoClient('mongodb://localhost:27017/')\n",
    "db = client.metflix\n",
    "movies = db.movies\n",
    "print('connexion success')"
   ]
  },
  {
   "cell_type": "raw",
   "metadata": {},
   "source": [
    "Q : Après avoir installé MongoDB, lister les DB fournies par défaut (ds l'installation) ?\n",
    "\n",
    "Les DB fournies par défaut sont: admin, config et local"
   ]
  },
  {
   "cell_type": "markdown",
   "metadata": {},
   "source": [
    "# insertOne() avec MongoDB & Python (pymongo)"
   ]
  },
  {
   "cell_type": "raw",
   "metadata": {},
   "source": [
    "Q : Créer 1è DB \"metflix\" qui contient 1collection \"movies\" dans laquelle vs inserez les documents suivants :\n",
    "   Comparer le comportement du shell Mongo et Python\n",
    "\n",
    " title = Rocky ; year = 1976\n",
    " title = Rocky ; year = 1976 ; _id = tt0075148\n",
    " title = Rocky ; year = 1976 ; _id = tt0075148\n",
    " title = Rocky ; year = 1976\n",
    "\n",
    " et 1autre collection \"users\" :\n",
    "\n",
    " - qui contient un document qui porte votre nom et prénom,\n",
    "\n",
    " Démarche et Indices shell :\n",
    "   - utiliser insertOne(), par ex : insertOne({\"title\" : ...})\n",
    "   - utiliser findOne(), find().pretty(), count()"
   ]
  },
  {
   "cell_type": "raw",
   "metadata": {},
   "source": [
    "Commande Mongo:\n",
    "\n",
    "db.movies.insertOne( {\"title\": \"Rocky\" , \"year\" : 1976}) // l'insert est réussi\n",
    "\n",
    "db.movies.insertOne( {\"title\": \"Rocky\" , \"year\" : 1976, \"_id\" : \"tt0075148\"}) // l'insert est réussi  \n",
    "\n",
    "db.movies.insertOne( {\"title\": \"Rocky\" , \"year\" : 1976, \"_id\" : \"tt0075148\"}) // l'insert n'a pas fonctionné, on ne peut pas créer \n",
    "de duplicata \n",
    "\n",
    "db.movies.insertOne( {\"title\": \"Rocky\" , \"year\" : 1976}) // l'insert est réussi, si on n'indique pas d'id"
   ]
  },
  {
   "cell_type": "code",
   "execution_count": 76,
   "metadata": {
    "scrolled": true
   },
   "outputs": [
    {
     "name": "stdout",
     "output_type": "stream",
     "text": [
      "{'_id': ObjectId('5ffdd1389457b0b36b4c65ef'), 'title': 'Rocky', 'year': 1976.0}\n",
      "{'_id': 'tt0075148', 'title': 'Rocky', 'year': 1976.0}\n",
      "{'_id': ObjectId('5ffdd1409457b0b36b4c65f0'), 'title': 'Rocky', 'year': 1976.0}\n"
     ]
    }
   ],
   "source": [
    "for movie in movies.find():\n",
    "    print(movie)"
   ]
  },
  {
   "cell_type": "raw",
   "metadata": {},
   "source": [
    "L'insert fonctionne pour les doublons si l'id n'est pas indiqué, les doublons auront des id différents, mais dans le cas où l'id est indiqué le doublon n'est pas insérer dans la base."
   ]
  },
  {
   "cell_type": "raw",
   "metadata": {},
   "source": [
    " Démarche et Indices Python : tout en gérant les exceptions (try/except)\n",
    "   - installer pymongo (API officiel Python pr MongoDB),\n",
    "   - supprimer la DB \"metflix\", la recréer et s'y connecter dessus\n",
    "   - y insérer les mêmes données"
   ]
  },
  {
   "cell_type": "code",
   "execution_count": 4,
   "metadata": {},
   "outputs": [],
   "source": [
    "client.drop_database('metflix')"
   ]
  },
  {
   "cell_type": "code",
   "execution_count": 5,
   "metadata": {},
   "outputs": [
    {
     "name": "stdout",
     "output_type": "stream",
     "text": [
      "0.009942770004272461\n"
     ]
    }
   ],
   "source": [
    "from pymongo import MongoClient, errors\n",
    "\n",
    "import time\n",
    "\n",
    "# epoch time before API call\n",
    "\n",
    "start = time.time()\n",
    "\n",
    "try:\n",
    "\n",
    "# attempt to create a client instance of PyMongo driver\n",
    "\n",
    "    client = MongoClient(host = 'mongodb://localhost:27017/', serverSelectionTimeoutMS = 2000)\n",
    "\n",
    "# call the server_info() to verify that client instance is valid\n",
    "\n",
    "    client.server_info() # will throw an exception\n",
    "\n",
    "except:\n",
    "\n",
    "    print (\"connection error\")\n",
    "\n",
    "# print the time that has elapsed\n",
    "\n",
    "print (time.time() - start)\n",
    "\n",
    "# define a function that validates the client instance\n",
    "\n",
    "#def mongodb_connect(domain, port):\n",
    "\n",
    "# create a domain and port string for the MongoDB server\n",
    "\n",
    "#domain_str = str(domain) + \":\" + str(port)\n"
   ]
  },
  {
   "cell_type": "code",
   "execution_count": 14,
   "metadata": {},
   "outputs": [
    {
     "name": "stdout",
     "output_type": "stream",
     "text": [
      "collection movies added\n"
     ]
    }
   ],
   "source": [
    "try:\n",
    "\n",
    "# create new database and collection instances\n",
    "\n",
    "    db = client.metflix\n",
    "\n",
    "    movies = db[\"movies\"]\n",
    "    \n",
    "    print(\"collection movies added\")\n",
    "\n",
    "except:\n",
    "    \n",
    "    print (\"Get MongoDB database and collection ERROR:\")\n",
    "\n",
    "\n",
    "# connect to a MongoDB server that doesn't exist\n",
    "\n",
    "#client = MongoClient(\n",
    "\n",
    "#host = [\"DOES_NOT_EXIST\"],\n",
    "\n",
    "# timeout is in milliseconds\n",
    "\n",
    "#serverSelectionTimeoutMS = 2000\n",
    "\n",
    "#)"
   ]
  },
  {
   "cell_type": "code",
   "execution_count": 6,
   "metadata": {},
   "outputs": [
    {
     "name": "stdout",
     "output_type": "stream",
     "text": [
      "6001a58ceef7b0599741f391\n",
      "Insert 1 succeed\n",
      "tt0075148\n",
      "Insert 2 succeed\n",
      "Insert 3 Failed\n",
      "6001a58ceef7b0599741f392\n",
      "Insert 4 succeed\n"
     ]
    }
   ],
   "source": [
    "try :\n",
    "    movie1 = { \"title\": \"Rocky\" , \"year\" : 1976 }\n",
    "    x1 = movies.insert_one(movie1)\n",
    "    print(x1.inserted_id)\n",
    "    print (\"Insert 1 succeed\")\n",
    "    \n",
    "    \n",
    "except:\n",
    "    print (\"Insert 1 Failed\")\n",
    "\n",
    "        \n",
    "try :\n",
    "    movie2 = { \"title\": \"Rocky\" , \"year\" : 1976, \"_id\" : \"tt0075148\" }\n",
    "    x2 = movies.insert_one(movie2)\n",
    "    print(x2.inserted_id)\n",
    "    print (\"Insert 2 succeed\")\n",
    "    \n",
    "except:\n",
    "        print (\"Insert 2 Failed\")\n",
    "        \n",
    "try :\n",
    "    movie3 = { \"title\": \"Rocky\" , \"year\" : 1976, \"_id\" : \"tt0075148\" }\n",
    "    x3 = movies.insert_one(movie3)\n",
    "    print(x3.inserted_id)\n",
    "    print (\"Insert 3 succeed\")\n",
    "    \n",
    "except:\n",
    "        print (\"Insert 3 Failed\")\n",
    "        \n",
    "try :\n",
    "    movie4 = { \"title\": \"Rocky\" , \"year\" : 1976 }\n",
    "    x4 = movies.insert_one(movie4)\n",
    "    print(x4.inserted_id)\n",
    "    print (\"Insert 4 succeed\")\n",
    "    \n",
    "except:\n",
    "        print (\"Insert 4 Failed\")\n",
    "\n"
   ]
  },
  {
   "cell_type": "code",
   "execution_count": 16,
   "metadata": {
    "scrolled": true
   },
   "outputs": [
    {
     "name": "stdout",
     "output_type": "stream",
     "text": [
      "{'_id': ObjectId('60004cfd8e754ffc56f30ccb'), 'title': 'Rocky', 'year': 1976}\n",
      "{'_id': 'tt0075148', 'title': 'Rocky', 'year': 1976}\n",
      "{'_id': ObjectId('60004cfd8e754ffc56f30ccc'), 'title': 'Rocky', 'year': 1976}\n"
     ]
    }
   ],
   "source": [
    "for movie in movies.find():\n",
    "    print(movie)"
   ]
  },
  {
   "cell_type": "raw",
   "metadata": {},
   "source": [
    " 1 autre collection \"users\" qui contient un document qui porte votre nom et prénom"
   ]
  },
  {
   "cell_type": "code",
   "execution_count": 103,
   "metadata": {},
   "outputs": [
    {
     "name": "stdout",
     "output_type": "stream",
     "text": [
      "5ffe193971ad6ecaee91a566\n"
     ]
    }
   ],
   "source": [
    "# commande Mongo: db.user.insertOne({ \"nom\" : \"XU\" , \"prenom\" : \"Florent\" })\n",
    "\n",
    "users = db.users\n",
    "db = client[\"metflix\"]\n",
    "users= db[\"users\"]\n",
    "user1 = { \"nom\": \"XU\" , \"prenom\" : \"Florent\" }\n",
    "x = users.insert_one(user1)\n",
    "print(x.inserted_id)"
   ]
  },
  {
   "cell_type": "code",
   "execution_count": 105,
   "metadata": {},
   "outputs": [
    {
     "name": "stdout",
     "output_type": "stream",
     "text": [
      "{'_id': ObjectId('5ffe193971ad6ecaee91a566'), 'nom': 'XU', 'prenom': 'Florent'}\n"
     ]
    }
   ],
   "source": [
    "for user in users.find():\n",
    "    print(user)"
   ]
  },
  {
   "cell_type": "markdown",
   "metadata": {},
   "source": [
    "# insertMany()"
   ]
  },
  {
   "cell_type": "raw",
   "metadata": {},
   "source": [
    "Q : Supp la dernière collection, la recréer en y insérant les documents suivants :\n",
    "  title = Rocky, year = 1976, _id = tt0075148\n",
    "  title = Jaws, year = 1975, imdb = tt0073195\n",
    "  title = Mad Max 2 : The Road Warrior, year = 1981, imdb = tt0082694\n",
    "  title = Raiders of the Lost Ark, year = 1981, imdb = tt0082971"
   ]
  },
  {
   "cell_type": "code",
   "execution_count": 97,
   "metadata": {},
   "outputs": [
    {
     "name": "stdout",
     "output_type": "stream",
     "text": [
      "['tt0075148', ObjectId('5ffdd82671ad6ecaee91a563'), ObjectId('5ffdd82671ad6ecaee91a564'), ObjectId('5ffdd82671ad6ecaee91a565')]\n"
     ]
    }
   ],
   "source": [
    "# commande Mongo: db.movies.insertMany([\n",
    "#     {\"title\" : \"Rocky\", \"year\" : 1976, \"_id\" : \"tt0075148\"}, \n",
    "#     {\"title\" : \"Jaws\", \"year\" : 1975, \"imdb\" : \"tt0073195\"}, \n",
    "#     {\"title\" : \"Mad Max 2 : The Road Warrior\", \"year\" : 1981, \"imdb\" : \"tt0082694\"}, \n",
    "#     {\"title\" : \"Raiders of the Lost Ark\", \"year\" : 1981, \"imdb\" : \"tt0082971\"} \n",
    "# ])\n",
    "\n",
    "mylist = [\n",
    "  { \"title\" : \"Rocky\", \"year\" : 1976, \"_id\" : \"tt0075148\"},\n",
    "  { \"title\" : \"Jaws\", \"year\" : 1975, \"imdb\" : \"tt0073195\"},\n",
    "  { \"title\" : \"Mad Max 2 : The Road Warrior\", \"year\" : 1981, \"imdb\" : \"tt0082694\"},\n",
    "  { \"title\" : \"Raiders of the Lost Ark\", \"year\" : 1981, \"imdb\" : \"tt0082971\"}\n",
    "]\n",
    "\n",
    "x = movies.insert_many(mylist)\n",
    "\n",
    "#print list of the _id values of the inserted documents:\n",
    "print(x.inserted_ids)"
   ]
  },
  {
   "cell_type": "markdown",
   "metadata": {},
   "source": [
    "# find avec des paramètres"
   ]
  },
  {
   "cell_type": "raw",
   "metadata": {},
   "source": [
    "Q : Afficher \n",
    "    ts les documents de la collection movies, \n",
    "    le tout 1è document, \n",
    "    le(s) document(s) où on trouve les films produits en 1981, \n",
    "    le document où on trouve le film qui porte le titre \"Jaws\" ?"
   ]
  },
  {
   "cell_type": "code",
   "execution_count": 106,
   "metadata": {
    "scrolled": false
   },
   "outputs": [
    {
     "name": "stdout",
     "output_type": "stream",
     "text": [
      "{'_id': 'tt0075148', 'title': 'Rocky', 'year': 1976.0}\n",
      "{'_id': ObjectId('5ffe1e119457b0b36b4c65f3'), 'title': 'Jaws', 'year': 1975.0, 'imdb': 'tt0073195'}\n",
      "{'_id': ObjectId('5ffe1e119457b0b36b4c65f4'), 'title': 'Mad Max 2 : The Road Warrior', 'year': 1981.0, 'imdb': 'tt0082694'}\n",
      "{'_id': ObjectId('5ffe1e119457b0b36b4c65f5'), 'title': 'Raiders of the Lost Ark', 'year': 1981.0, 'imdb': 'tt0082971'}\n"
     ]
    }
   ],
   "source": [
    "# ts les documents de la collection movies \n",
    "\n",
    "# commande Mongo: db.movies.find()\n",
    "\n",
    "for movie in movies.find():\n",
    "    print(movie)"
   ]
  },
  {
   "cell_type": "code",
   "execution_count": 107,
   "metadata": {
    "scrolled": true
   },
   "outputs": [
    {
     "data": {
      "text/plain": [
       "{'_id': 'tt0075148', 'title': 'Rocky', 'year': 1976.0}"
      ]
     },
     "execution_count": 107,
     "metadata": {},
     "output_type": "execute_result"
    }
   ],
   "source": [
    "# le tout 1è document \n",
    "\n",
    "# commande Mongo: db.movies.findOne()\n",
    "\n",
    "movies.find_one()"
   ]
  },
  {
   "cell_type": "code",
   "execution_count": 108,
   "metadata": {},
   "outputs": [
    {
     "name": "stdout",
     "output_type": "stream",
     "text": [
      "{'_id': ObjectId('5ffe1e119457b0b36b4c65f4'), 'title': 'Mad Max 2 : The Road Warrior', 'year': 1981.0, 'imdb': 'tt0082694'}\n",
      "{'_id': ObjectId('5ffe1e119457b0b36b4c65f5'), 'title': 'Raiders of the Lost Ark', 'year': 1981.0, 'imdb': 'tt0082971'}\n"
     ]
    }
   ],
   "source": [
    "# le(s) document(s) où on trouve les films produits en 1981\n",
    "\n",
    "# commande Mongo: db.movies.find({\"year\":1981})\n",
    "\n",
    "for movie in movies.find({\"year\" : 1981}):\n",
    "    print(movie)"
   ]
  },
  {
   "cell_type": "code",
   "execution_count": 109,
   "metadata": {
    "scrolled": true
   },
   "outputs": [
    {
     "name": "stdout",
     "output_type": "stream",
     "text": [
      "{'_id': ObjectId('5ffe1e119457b0b36b4c65f3'), 'title': 'Jaws', 'year': 1975.0, 'imdb': 'tt0073195'}\n"
     ]
    }
   ],
   "source": [
    "# le document où on trouve le film qui porte le titre \"Jaws\"\n",
    "# commande Mongo: db.movies.find({\"title\":\"Jaws\"})\n",
    "\n",
    "for movie in movies.find({\"title\" : \"Jaws\"}):\n",
    "    print(movie)"
   ]
  },
  {
   "cell_type": "markdown",
   "metadata": {},
   "source": [
    "# Import de fichiers .json ?"
   ]
  },
  {
   "cell_type": "raw",
   "metadata": {},
   "source": [
    "Q : Créer une DB movies_artists avec deux collections : une pour les films et l’autre pour les artistes (voir les fichiers artists.json et movies.json associés) ?\n",
    "Rq: Préciser, lors de l'injection des fichiers json, dans la commande \"mongoimport\" la possibilité de supprimer la collection si elle existe (pour qu'elle soit recréer de nouveau et y injecter de la data fraîche).\n",
    "\n",
    "Commande Shell : \n",
    "    - mongoimport -d movie_artists -c artists --drop --file C:/Users/fxu93/Documents/Cours/NoSQL/artists.json --jsonArray\n",
    "    - mongoimport -d movie_artists -c movies --drop --file C:/Users/fxu93/Documents/Cours/NoSQL/movies.json --jsonArray"
   ]
  },
  {
   "cell_type": "code",
   "execution_count": 3,
   "metadata": {},
   "outputs": [],
   "source": [
    "db = client.movie_artists\n",
    "movies = db.movies\n",
    "artists = db.artists"
   ]
  },
  {
   "cell_type": "code",
   "execution_count": 11,
   "metadata": {
    "scrolled": true
   },
   "outputs": [
    {
     "name": "stderr",
     "output_type": "stream",
     "text": [
      "<ipython-input-11-80124c38a740>:5: DeprecationWarning: count is deprecated. Use Collection.count_documents instead.\n",
      "  movies.find().count()\n"
     ]
    },
    {
     "data": {
      "text/plain": [
       "85"
      ]
     },
     "execution_count": 11,
     "metadata": {},
     "output_type": "execute_result"
    }
   ],
   "source": [
    "movies.find().count()"
   ]
  },
  {
   "cell_type": "code",
   "execution_count": 41,
   "metadata": {},
   "outputs": [
    {
     "name": "stderr",
     "output_type": "stream",
     "text": [
      "<ipython-input-41-3de21ffdea53>:1: DeprecationWarning: count is deprecated. Use Collection.count_documents instead.\n",
      "  artists.find().count()\n"
     ]
    },
    {
     "data": {
      "text/plain": [
       "179"
      ]
     },
     "execution_count": 41,
     "metadata": {},
     "output_type": "execute_result"
    }
   ],
   "source": [
    "artists.find().count()"
   ]
  },
  {
   "cell_type": "raw",
   "metadata": {},
   "source": [
    "Q : Augmenter la collection movies avec le fichier movies_suite.json ?\n",
    "\n",
    "commande Shell :\n",
    "    - mongoimport -d movie_artists -c movies --mode insert --file C:/Users/fxu93/Documents/Cours/NoSQL/movies_suite.json --jsonArray"
   ]
  },
  {
   "cell_type": "code",
   "execution_count": 42,
   "metadata": {},
   "outputs": [
    {
     "name": "stderr",
     "output_type": "stream",
     "text": [
      "<ipython-input-42-75f78156883a>:1: DeprecationWarning: count is deprecated. Use Collection.count_documents instead.\n",
      "  movies.find().count()\n"
     ]
    },
    {
     "data": {
      "text/plain": [
       "88"
      ]
     },
     "execution_count": 42,
     "metadata": {},
     "output_type": "execute_result"
    }
   ],
   "source": [
    "movies.find().count()"
   ]
  },
  {
   "cell_type": "raw",
   "metadata": {},
   "source": [
    "Q : Augmenter la collection artists avec le fichier artists_suite.json après l'avoir transformer en csv (la conversion du json vers csv est obligatoire) ?\n",
    "\n",
    "commande Mongo :\n",
    "    - mongoimport -d movie_artists -c artists --type csv --headerline --file C:/Users/fxu93/Documents/Cours/NoSQL/artists_suite.csv\n"
   ]
  },
  {
   "cell_type": "code",
   "execution_count": 43,
   "metadata": {},
   "outputs": [
    {
     "name": "stderr",
     "output_type": "stream",
     "text": [
      "<ipython-input-43-3de21ffdea53>:1: DeprecationWarning: count is deprecated. Use Collection.count_documents instead.\n",
      "  artists.find().count()\n"
     ]
    },
    {
     "data": {
      "text/plain": [
       "206"
      ]
     },
     "execution_count": 43,
     "metadata": {},
     "output_type": "execute_result"
    }
   ],
   "source": [
    "artists.find().count()"
   ]
  },
  {
   "cell_type": "raw",
   "metadata": {},
   "source": [
    "Q : Approfondissement\n",
    "Q : Qu'est-ce q'un upsert et cmnt faire upsert à l'aide d'un fichier json ?\n",
    "\n",
    "Le mode upsert permet de mettre à jour des donnée et d'insérer des données inéxistantes.\n",
    "\n",
    "commande Shell :\n",
    "    - mongoimport -d movie_artists -c artists --mode upsert --upsertFields last_name --file C:/Users/fxu93/Documents/Cours/NoSQL/artists_upsert.json --jsonArray"
   ]
  },
  {
   "cell_type": "code",
   "execution_count": 56,
   "metadata": {},
   "outputs": [
    {
     "name": "stdout",
     "output_type": "stream",
     "text": [
      "{'_id': 'artist:2', 'last_name': 'Dunst', 'first_name': 'Kirsten', 'birth_date': None}\n"
     ]
    }
   ],
   "source": [
    "for movie in artists.find({\"last_name\":\"Dunst\"}):\n",
    "    print(movie)"
   ]
  },
  {
   "cell_type": "code",
   "execution_count": 57,
   "metadata": {},
   "outputs": [
    {
     "name": "stdout",
     "output_type": "stream",
     "text": [
      "{'_id': 'artist:2', 'last_name': 'Dunst', 'first_name': 'Kirsten', 'birth_date': 1982}\n"
     ]
    }
   ],
   "source": [
    "#après la commande Shell:\n",
    "\n",
    "for movie in artists.find({\"last_name\":\"Dunst\"}):\n",
    "    print(movie)"
   ]
  },
  {
   "cell_type": "markdown",
   "metadata": {},
   "source": [
    "# Pagination des résultats ?"
   ]
  },
  {
   "cell_type": "raw",
   "metadata": {},
   "source": [
    "Q : Afficher les 12 documents (films) à partir du dixième inclus en se limitant aux title et _id ?"
   ]
  },
  {
   "cell_type": "code",
   "execution_count": 53,
   "metadata": {
    "scrolled": false
   },
   "outputs": [
    {
     "name": "stdout",
     "output_type": "stream",
     "text": [
      "{'_id': 'movie:13', 'title': 'Van Gogh'}\n",
      "{'_id': 'movie:14', 'title': 'Seven'}\n",
      "{'_id': 'movie:16', 'title': 'Le last_name de la rose'}\n",
      "{'_id': 'movie:2', 'title': 'Alien'}\n",
      "{'_id': 'movie:4', 'title': 'Sacrifice'}\n",
      "{'_id': 'movie:6', 'title': 'Sleepy Hollow'}\n",
      "{'_id': 'movie:20', 'title': 'Les dents de la mer'}\n",
      "{'_id': 'movie:22', 'title': 'Godzilla'}\n",
      "{'_id': 'movie:19', 'title': 'Terminator'}\n",
      "{'_id': 'movie:25', 'title': 'Kagemusha'}\n",
      "{'_id': 'movie:27', 'title': 'Le gendarme et les extra-terrestres'}\n",
      "{'_id': 'movie:21', 'title': 'Le silence des agneaux'}\n"
     ]
    }
   ],
   "source": [
    "# commande Mango:\n",
    "# db.movies.find({},{_id:1, title:1}).limit(12).skip(9)\n",
    "\n",
    "for movie in movies.find({},{\"title\":1, \"_id\":1}).limit(12).skip(9):\n",
    "    print(movie)"
   ]
  },
  {
   "cell_type": "markdown",
   "metadata": {},
   "source": [
    "# Trier les resultats ?"
   ]
  },
  {
   "cell_type": "raw",
   "metadata": {},
   "source": [
    "Q : Trier les documents (de la dernière qry) sur le titre du film ds un ordre croissant (ensuite décroissant) ?\n"
   ]
  },
  {
   "cell_type": "code",
   "execution_count": 66,
   "metadata": {
    "scrolled": true
   },
   "outputs": [
    {
     "name": "stdout",
     "output_type": "stream",
     "text": [
      "{'_id': 'movie:12', 'title': '58 minutes pour vivre'}\n",
      "{'_id': 'movie:2', 'title': 'Alien'}\n",
      "{'_id': 'movie:7', 'title': 'American Beauty'}\n",
      "{'_id': 'movie:53', 'title': 'Bad Lieutenant'}\n",
      "{'_id': 'movie:88', 'title': 'Batman begins'}\n",
      "{'_id': 'movie:10', 'title': 'Blade Runner'}\n",
      "{'_id': 'movie:72', 'title': 'Casino'}\n",
      "{'_id': 'movie:73', 'title': 'Casino Royale'}\n",
      "{'_id': 'movie:51', 'title': 'De bruit et de fureur'}\n",
      "{'_id': 'movie:78', 'title': 'Django unchained'}\n",
      "{'_id': 'movie:37', 'title': 'Eyes Wide Shut'}\n",
      "{'_id': 'movie:77', 'title': 'Fargo'}\n",
      "{'_id': 'movie:40', 'title': 'Fenêtre sur cour'}\n",
      "{'_id': 'movie:9', 'title': 'Gladiator'}\n",
      "{'_id': 'movie:22', 'title': 'Godzilla'}\n",
      "{'_id': 'movie:69', 'title': 'Heat'}\n",
      "{'_id': 'movie:8', 'title': 'Impitoyable'}\n",
      "{'_id': 'movie:86', 'title': 'Inception'}\n",
      "{'_id': 'movie:79', 'title': 'Inglourious Basterds'}\n",
      "{'_id': 'movie:80', 'title': 'Inglourious Basterds'}\n",
      "{'_id': 'movie:85', 'title': 'Interstellar'}\n",
      "{'_id': 'movie:57', 'title': 'Jackie Brown'}\n",
      "{'_id': 'movie:42', 'title': \"Jeanne d'Arc\"}\n",
      "{'_id': 'movie:25', 'title': 'Kagemusha'}\n",
      "{'_id': 'movie:61', 'title': 'Kill Bill'}\n",
      "{'_id': 'movie:48', 'title': 'King of New York'}\n",
      "{'_id': 'movie:41', 'title': 'La mort aux trousses'}\n",
      "{'_id': 'movie:32', 'title': 'Le bon, la brute et le truand'}\n",
      "{'_id': 'movie:43', 'title': 'Le cinquième élément'}\n",
      "{'_id': 'movie:82', 'title': 'Le dernier métro'}\n",
      "{'_id': 'movie:27', 'title': 'Le gendarme et les extra-terrestres'}\n",
      "{'_id': 'movie:46', 'title': 'Le grand bleu'}\n",
      "{'_id': 'movie:16', 'title': 'Le last_name de la rose'}\n",
      "{'_id': 'movie:28', 'title': 'Le monde perdu'}\n",
      "{'_id': 'movie:54', 'title': 'Le parrain'}\n",
      "{'_id': 'movie:55', 'title': 'Le parrain II'}\n",
      "{'_id': 'movie:56', 'title': 'Le parrain III'}\n",
      "{'_id': 'movie:34', 'title': 'Le retour du Jedi'}\n",
      "{'_id': 'movie:21', 'title': 'Le silence des agneaux'}\n",
      "{'_id': 'movie:71', 'title': 'Les affranchis'}\n",
      "{'_id': 'movie:31', 'title': 'Les bronzés font du ski'}\n",
      "{'_id': 'movie:20', 'title': 'Les dents de la mer'}\n",
      "{'_id': 'movie:35', 'title': 'Les oiseaux'}\n",
      "{'_id': 'movie:26', 'title': 'Les pleins pouvoirs'}\n",
      "{'_id': 'movie:81', 'title': 'Les quatre cents coups'}\n",
      "{'_id': 'movie:60', 'title': 'Lost in Translation'}\n",
      "{'_id': 'movie:44', 'title': 'Léon'}\n",
      "{'_id': 'movie:67', 'title': 'Marie Antoinette'}\n",
      "{'_id': 'movie:18', 'title': 'Mary à tout prix'}\n",
      "{'_id': 'movie:23', 'title': 'Matrix'}\n",
      "{'_id': 'movie:87', 'title': 'Memento'}\n",
      "{'_id': 'movie:63', 'title': 'Million Dollar Baby'}\n",
      "{'_id': 'movie:24', 'title': 'Mission: Impossible'}\n",
      "{'_id': 'movie:45', 'title': 'Nikita'}\n",
      "{'_id': 'movie:76', 'title': 'No country for old men'}\n",
      "{'_id': 'movie:92', 'title': 'Nous trois ou rien'}\n",
      "{'_id': 'movie:39', 'title': 'Pas de printemps pour Marnie'}\n",
      "{'_id': 'movie:11', 'title': 'Piège de cristal'}\n",
      "{'_id': 'movie:64', 'title': 'Pour quelques dollars de plus'}\n",
      "{'_id': 'movie:33', 'title': 'Psychose'}\n",
      "{'_id': 'movie:17', 'title': 'Pulp fiction'}\n",
      "{'_id': 'movie:29', 'title': 'Rain Man'}\n",
      "{'_id': 'movie:36', 'title': 'Reservoir dogs'}\n",
      "{'_id': 'movie:84', 'title': 'Rio Grande'}\n",
      "{'_id': 'movie:4', 'title': 'Sacrifice'}\n",
      "{'_id': 'movie:14', 'title': 'Seven'}\n",
      "{'_id': 'movie:38', 'title': 'Shining'}\n",
      "{'_id': 'movie:59', 'title': 'Sixième sens'}\n",
      "{'_id': 'movie:74', 'title': 'Skyfall'}\n",
      "{'_id': 'movie:6', 'title': 'Sleepy Hollow'}\n",
      "{'_id': 'movie:68', 'title': 'Soleil vert'}\n",
      "{'_id': 'movie:47', 'title': 'Spider-Man'}\n",
      "{'_id': 'movie:62', 'title': 'Stalingrad'}\n",
      "{'_id': 'movie:70', 'title': 'Taxi driver'}\n",
      "{'_id': 'movie:19', 'title': 'Terminator'}\n",
      "{'_id': 'movie:89', 'title': 'The Dark Knight'}\n",
      "{'_id': 'movie:90', 'title': 'The Dark Knight Rises'}\n",
      "{'_id': 'movie:50', 'title': 'The Matrix Revolutions'}\n",
      "{'_id': 'movie:49', 'title': 'The Matrix reloaded'}\n",
      "{'_id': 'movie:3', 'title': 'Titanic'}\n",
      "{'_id': 'movie:30', 'title': 'Top Gun'}\n",
      "{'_id': 'movie:15', 'title': 'Twelve Monkeys'}\n",
      "{'_id': 'movie:91', 'title': 'Un prophète'}\n",
      "{'_id': 'movie:58', 'title': 'Une journée en enfer'}\n",
      "{'_id': 'movie:52', 'title': 'Usual suspects'}\n",
      "{'_id': 'movie:13', 'title': 'Van Gogh'}\n",
      "{'_id': 'movie:1', 'title': 'Vertigo'}\n",
      "{'_id': 'movie:5', 'title': 'Volte/Face'}\n"
     ]
    }
   ],
   "source": [
    "#ordre croissant\n",
    "#commande Mongo:\n",
    "# - db.movies.find({},{title:1, _id:1}).sort({title:1})\n",
    "\n",
    "for movie in movies.find({},{\"title\":1, \"_id\":1}).sort(\"title\",1):\n",
    "    print(movie)\n"
   ]
  },
  {
   "cell_type": "code",
   "execution_count": 67,
   "metadata": {
    "scrolled": true
   },
   "outputs": [
    {
     "name": "stdout",
     "output_type": "stream",
     "text": [
      "{'_id': 'movie:5', 'title': 'Volte/Face'}\n",
      "{'_id': 'movie:1', 'title': 'Vertigo'}\n",
      "{'_id': 'movie:13', 'title': 'Van Gogh'}\n",
      "{'_id': 'movie:52', 'title': 'Usual suspects'}\n",
      "{'_id': 'movie:58', 'title': 'Une journée en enfer'}\n",
      "{'_id': 'movie:91', 'title': 'Un prophète'}\n",
      "{'_id': 'movie:15', 'title': 'Twelve Monkeys'}\n",
      "{'_id': 'movie:30', 'title': 'Top Gun'}\n",
      "{'_id': 'movie:3', 'title': 'Titanic'}\n",
      "{'_id': 'movie:49', 'title': 'The Matrix reloaded'}\n",
      "{'_id': 'movie:50', 'title': 'The Matrix Revolutions'}\n",
      "{'_id': 'movie:90', 'title': 'The Dark Knight Rises'}\n",
      "{'_id': 'movie:89', 'title': 'The Dark Knight'}\n",
      "{'_id': 'movie:19', 'title': 'Terminator'}\n",
      "{'_id': 'movie:70', 'title': 'Taxi driver'}\n",
      "{'_id': 'movie:62', 'title': 'Stalingrad'}\n",
      "{'_id': 'movie:47', 'title': 'Spider-Man'}\n",
      "{'_id': 'movie:68', 'title': 'Soleil vert'}\n",
      "{'_id': 'movie:6', 'title': 'Sleepy Hollow'}\n",
      "{'_id': 'movie:74', 'title': 'Skyfall'}\n",
      "{'_id': 'movie:59', 'title': 'Sixième sens'}\n",
      "{'_id': 'movie:38', 'title': 'Shining'}\n",
      "{'_id': 'movie:14', 'title': 'Seven'}\n",
      "{'_id': 'movie:4', 'title': 'Sacrifice'}\n",
      "{'_id': 'movie:84', 'title': 'Rio Grande'}\n",
      "{'_id': 'movie:36', 'title': 'Reservoir dogs'}\n",
      "{'_id': 'movie:29', 'title': 'Rain Man'}\n",
      "{'_id': 'movie:17', 'title': 'Pulp fiction'}\n",
      "{'_id': 'movie:33', 'title': 'Psychose'}\n",
      "{'_id': 'movie:64', 'title': 'Pour quelques dollars de plus'}\n",
      "{'_id': 'movie:11', 'title': 'Piège de cristal'}\n",
      "{'_id': 'movie:39', 'title': 'Pas de printemps pour Marnie'}\n",
      "{'_id': 'movie:92', 'title': 'Nous trois ou rien'}\n",
      "{'_id': 'movie:76', 'title': 'No country for old men'}\n",
      "{'_id': 'movie:45', 'title': 'Nikita'}\n",
      "{'_id': 'movie:24', 'title': 'Mission: Impossible'}\n",
      "{'_id': 'movie:63', 'title': 'Million Dollar Baby'}\n",
      "{'_id': 'movie:87', 'title': 'Memento'}\n",
      "{'_id': 'movie:23', 'title': 'Matrix'}\n",
      "{'_id': 'movie:18', 'title': 'Mary à tout prix'}\n",
      "{'_id': 'movie:67', 'title': 'Marie Antoinette'}\n",
      "{'_id': 'movie:44', 'title': 'Léon'}\n",
      "{'_id': 'movie:60', 'title': 'Lost in Translation'}\n",
      "{'_id': 'movie:81', 'title': 'Les quatre cents coups'}\n",
      "{'_id': 'movie:26', 'title': 'Les pleins pouvoirs'}\n",
      "{'_id': 'movie:35', 'title': 'Les oiseaux'}\n",
      "{'_id': 'movie:20', 'title': 'Les dents de la mer'}\n",
      "{'_id': 'movie:31', 'title': 'Les bronzés font du ski'}\n",
      "{'_id': 'movie:71', 'title': 'Les affranchis'}\n",
      "{'_id': 'movie:21', 'title': 'Le silence des agneaux'}\n",
      "{'_id': 'movie:34', 'title': 'Le retour du Jedi'}\n",
      "{'_id': 'movie:56', 'title': 'Le parrain III'}\n",
      "{'_id': 'movie:55', 'title': 'Le parrain II'}\n",
      "{'_id': 'movie:54', 'title': 'Le parrain'}\n",
      "{'_id': 'movie:28', 'title': 'Le monde perdu'}\n",
      "{'_id': 'movie:16', 'title': 'Le last_name de la rose'}\n",
      "{'_id': 'movie:46', 'title': 'Le grand bleu'}\n",
      "{'_id': 'movie:27', 'title': 'Le gendarme et les extra-terrestres'}\n",
      "{'_id': 'movie:82', 'title': 'Le dernier métro'}\n",
      "{'_id': 'movie:43', 'title': 'Le cinquième élément'}\n",
      "{'_id': 'movie:32', 'title': 'Le bon, la brute et le truand'}\n",
      "{'_id': 'movie:41', 'title': 'La mort aux trousses'}\n",
      "{'_id': 'movie:48', 'title': 'King of New York'}\n",
      "{'_id': 'movie:61', 'title': 'Kill Bill'}\n",
      "{'_id': 'movie:25', 'title': 'Kagemusha'}\n",
      "{'_id': 'movie:42', 'title': \"Jeanne d'Arc\"}\n",
      "{'_id': 'movie:57', 'title': 'Jackie Brown'}\n",
      "{'_id': 'movie:85', 'title': 'Interstellar'}\n",
      "{'_id': 'movie:79', 'title': 'Inglourious Basterds'}\n",
      "{'_id': 'movie:80', 'title': 'Inglourious Basterds'}\n",
      "{'_id': 'movie:86', 'title': 'Inception'}\n",
      "{'_id': 'movie:8', 'title': 'Impitoyable'}\n",
      "{'_id': 'movie:69', 'title': 'Heat'}\n",
      "{'_id': 'movie:22', 'title': 'Godzilla'}\n",
      "{'_id': 'movie:9', 'title': 'Gladiator'}\n",
      "{'_id': 'movie:40', 'title': 'Fenêtre sur cour'}\n",
      "{'_id': 'movie:77', 'title': 'Fargo'}\n",
      "{'_id': 'movie:37', 'title': 'Eyes Wide Shut'}\n",
      "{'_id': 'movie:78', 'title': 'Django unchained'}\n",
      "{'_id': 'movie:51', 'title': 'De bruit et de fureur'}\n",
      "{'_id': 'movie:73', 'title': 'Casino Royale'}\n",
      "{'_id': 'movie:72', 'title': 'Casino'}\n",
      "{'_id': 'movie:10', 'title': 'Blade Runner'}\n",
      "{'_id': 'movie:88', 'title': 'Batman begins'}\n",
      "{'_id': 'movie:53', 'title': 'Bad Lieutenant'}\n",
      "{'_id': 'movie:7', 'title': 'American Beauty'}\n",
      "{'_id': 'movie:2', 'title': 'Alien'}\n",
      "{'_id': 'movie:12', 'title': '58 minutes pour vivre'}\n"
     ]
    }
   ],
   "source": [
    "#ordre décroissant\n",
    "#commande Mongo:\n",
    "# - db.movies.find({},{title:1, _id:1}).sort({title:-1})\n",
    "\n",
    "for movie in movies.find({},{\"title\":1, \"_id\":1}).sort(\"title\",-1):\n",
    "    print(movie)"
   ]
  },
  {
   "cell_type": "markdown",
   "metadata": {},
   "source": [
    "# Critères de recherche simples ?"
   ]
  },
  {
   "cell_type": "raw",
   "metadata": {},
   "source": [
    "Q : Afficher les infos du film dont l'id est 2 ? Se limiter aux infos relatives au titre, au genre et au summary ?"
   ]
  },
  {
   "cell_type": "code",
   "execution_count": 70,
   "metadata": {},
   "outputs": [
    {
     "data": {
      "text/plain": [
       "{'title': 'Alien',\n",
       " 'genre': 'Science-fiction',\n",
       " 'summary': 'Près d\\'un vaisseau spatial échoué sur une lointaine planète, des Terriens en mission découvrent de bien étranges \"oeufs\". Ils en ramènent un à bord, ignorant qu\\'ils viennent d\\'introduire parmi eux un huitième passager particulièrement féroce et meurtrier. '}"
      ]
     },
     "execution_count": 70,
     "metadata": {},
     "output_type": "execute_result"
    }
   ],
   "source": [
    "# commande Mango: \n",
    "# db.movies.findOne({\"_id\": \"movie:2\"},{_id:0, title:1, genre:1, summary:1})\n",
    "\n",
    "movies.find_one({\"_id\": \"movie:2\"},{\"_id\":0, \"title\":1, \"genre\":1, \"summary\":1})"
   ]
  },
  {
   "cell_type": "raw",
   "metadata": {},
   "source": [
    "Q : Combien de films ont été produit en en 1979 et les afficher en se limitant aux infos relatives au titre, à l'année et à la liste des acteurs suivant un ordre alphabétique décroissant sur le titre."
   ]
  },
  {
   "cell_type": "code",
   "execution_count": 122,
   "metadata": {
    "scrolled": true
   },
   "outputs": [
    {
     "name": "stdout",
     "output_type": "stream",
     "text": [
      "2 films ont été produit en 1979\n",
      "{'title': 'Les bronzés font du ski',\n",
      " 'year': 1979,\n",
      " 'actors': [{'_id': 'artist:75', 'role': 'Nathalie Morin'},\n",
      "            {'_id': 'artist:76', 'role': 'Christiane'},\n",
      "            {'_id': 'artist:84', 'role': 'Jean-Claude Dus'},\n",
      "            {'_id': 'artist:85', 'role': 'Jérôme'},\n",
      "            {'_id': 'artist:86', 'role': 'Popeye'}]}\n",
      "{'title': 'Alien',\n",
      " 'year': 1979,\n",
      " 'actors': [{'_id': 'artist:5', 'role': 'Ripley'}]}\n"
     ]
    },
    {
     "name": "stderr",
     "output_type": "stream",
     "text": [
      "<ipython-input-122-fab19133e5e1>:5: DeprecationWarning: count is deprecated. Use Collection.count_documents instead.\n",
      "  nb = movies.find({\"year\": 1979}).count()\n"
     ]
    }
   ],
   "source": [
    "# commande Mongo:\n",
    "# movies.find({\"year\": 1979}).count()\n",
    "# db.movies.find({\"year\": 1979},{_id:0, title:1, year:1, actors:1}).sort({title: -1}).pretty()\n",
    "\n",
    "nb = movies.find({\"year\": 1979}).count()\n",
    "print(nb,\"films ont été produit en 1979\")\n",
    "\n",
    "for movie in movies.find({\"year\": 1979},{\"_id\":0, \"actors\":1, \"year\":1, \"title\":1}).sort(\"title\", -1):\n",
    "    pprint(movie,sort_dicts=False)"
   ]
  },
  {
   "cell_type": "raw",
   "metadata": {},
   "source": [
    "Q : Afficher les infos sur le film dont le genre est \"Science-fiction\" et produit en 1979 sans préciser l'_id et le summary ?"
   ]
  },
  {
   "cell_type": "code",
   "execution_count": 18,
   "metadata": {},
   "outputs": [
    {
     "name": "stdout",
     "output_type": "stream",
     "text": [
      "{'title': 'Alien',\n",
      " 'year': 1979,\n",
      " 'genre': 'Science-fiction',\n",
      " 'country': 'USA',\n",
      " 'director': {'_id': 'artist:4'},\n",
      " 'actors': [{'_id': 'artist:5', 'role': 'Ripley'}]}\n"
     ]
    }
   ],
   "source": [
    "# commande Mongo:\n",
    "# db.movies.find({genre:\"Science-fiction\", year: 1979},{_id: 0, summary: 0}).pretty()\n",
    "\n",
    "for movie in movies.find({\"genre\": \"Science-fiction\", \"year\": 1979}, {\"_id\":0, \"summary\": 0}):\n",
    "    pprint(movie, sort_dicts=False)"
   ]
  },
  {
   "cell_type": "raw",
   "metadata": {},
   "source": [
    "Q : Corriger ces Qry ?\n",
    "    db.movies.find({\"titre\": \"Alien\"})\n",
    "    db.movies.find({\"title\": \"alien\"})"
   ]
  },
  {
   "cell_type": "code",
   "execution_count": 12,
   "metadata": {
    "scrolled": true
   },
   "outputs": [
    {
     "data": {
      "text/plain": [
       "{'_id': 'movie:2',\n",
       " 'title': 'Alien',\n",
       " 'year': 1979,\n",
       " 'genre': 'Science-fiction',\n",
       " 'summary': 'Près d\\'un vaisseau spatial échoué sur une lointaine planète, des Terriens en mission découvrent de bien étranges \"oeufs\". Ils en ramènent un à bord, ignorant qu\\'ils viennent d\\'introduire parmi eux un huitième passager particulièrement féroce et meurtrier. ',\n",
       " 'country': 'USA',\n",
       " 'director': {'_id': 'artist:4'},\n",
       " 'actors': [{'_id': 'artist:5', 'role': 'Ripley'}]}"
      ]
     },
     "execution_count": 12,
     "metadata": {},
     "output_type": "execute_result"
    }
   ],
   "source": [
    "# Correction:\n",
    "# commande Mongo:\n",
    "# db.movies.findOne({\"title\": \"Alien\"})\n",
    "\n",
    "movies.find_one({\"title\":\"Alien\"})"
   ]
  },
  {
   "cell_type": "markdown",
   "metadata": {},
   "source": [
    "# Critères de recherche complexes ?"
   ]
  },
  {
   "cell_type": "raw",
   "metadata": {},
   "source": [
    "Q : Combien de films produits par le director dont l'id est 4 et les afficher de plus récent au moins récent (sans le résumé ni le country ni le genre) ?"
   ]
  },
  {
   "cell_type": "code",
   "execution_count": 23,
   "metadata": {
    "scrolled": true
   },
   "outputs": [
    {
     "name": "stdout",
     "output_type": "stream",
     "text": [
      "3 films ont été réalisé par le director dont l'id est 4\n"
     ]
    },
    {
     "name": "stderr",
     "output_type": "stream",
     "text": [
      "<ipython-input-23-bb4402ea6e5f>:5: DeprecationWarning: count is deprecated. Use Collection.count_documents instead.\n",
      "  nb = movies.find({\"director\":{\"_id\":\"artist:4\"}}).count()\n"
     ]
    }
   ],
   "source": [
    "# commande Mongo:\n",
    "# db.movies.find({\"director\":{\"_id\":\"artist:4\"}}).count()\n",
    "# db.movies.find({\"director\":{\"_id\":\"artist:4\"}},{\"summary\":0,\"country\":0,\"genre\":0}).sort({\"year\":-1}).pretty()\n",
    "\n",
    "nb = movies.find({\"director\":{\"_id\":\"artist:4\"}}).count()\n",
    "print(nb,\"films ont été réalisé par le director dont l'id est 4\")\n",
    "\n",
    "for movie in movies.find({\"director\":{\"_id\":\"artist:4\"}},{\"summary\":0,\"country\":0,\"genre\":0}).sort(\"year\",-1):\n",
    "    pprint(movie,sort_dicts=False)"
   ]
  },
  {
   "cell_type": "raw",
   "metadata": {},
   "source": [
    "Q : Combien de films produits par le director qui porte l'id 4 et dont l'un des acteurs a joué le rôle de Maximus et les afficher sans le résumé ni le country ni le genre ?"
   ]
  },
  {
   "cell_type": "code",
   "execution_count": 47,
   "metadata": {
    "scrolled": false
   },
   "outputs": [
    {
     "name": "stdout",
     "output_type": "stream",
     "text": [
      "1 film a été réalisé par le directeur dont l'id est 4 et dont l'un des acteurs a joué le rôle de Maximus\n",
      "{'_id': 'movie:9',\n",
      " 'title': 'Gladiator',\n",
      " 'year': 2000,\n",
      " 'director': {'_id': 'artist:4'},\n",
      " 'actors': [{'_id': 'artist:23', 'role': 'Maximus'},\n",
      "            {'_id': 'artist:147', 'role': 'Commode'},\n",
      "            {'_id': 'artist:148', 'role': 'Lucilla'},\n",
      "            {'_id': 'artist:149', 'role': 'Marc Aurele'}]}\n"
     ]
    },
    {
     "name": "stderr",
     "output_type": "stream",
     "text": [
      "<ipython-input-47-2cfc5f3d036c>:5: DeprecationWarning: count is deprecated. Use Collection.count_documents instead.\n",
      "  nb= movies.find({\"director._id\":{\"$eq\":\"artist:4\"},\"actors.role\":{\"$eq\" :\"Maximus\"}}).count()\n"
     ]
    }
   ],
   "source": [
    "# commande Mongo:\n",
    "# db.movies.find({\"director._id\":{$eq:\"artist:4\"},\"actors.role\":{$eq :\"Maximus\"}}).count()\n",
    "# db.movies.find({\"director._id\":{$eq:\"artist:4\"},\"actors.role\":{$eq :\"Maximus\"}},{\"summary\":0, \"country\":0, \"genre\":0}).pretty()\n",
    "\n",
    "nb= movies.find({\"director._id\":{\"$eq\":\"artist:4\"},\"actors.role\":{\"$eq\" :\"Maximus\"}}).count()\n",
    "print(nb ,\"film a été réalisé par le directeur dont l'id est 4 et dont l'un des acteurs a joué le rôle de Maximus\")\n",
    "\n",
    "for movie in db.movies.find({\"director._id\":{\"$eq\":\"artist:4\"},\"actors.role\":{\"$eq\" :\"Maximus\"}},{\"summary\":0, \"country\":0, \"genre\":0}):\n",
    "    pprint(movie,sort_dicts=False)"
   ]
  },
  {
   "cell_type": "raw",
   "metadata": {},
   "source": [
    "Q : Ecrire la dernière Qry en déclarant des variables ?"
   ]
  },
  {
   "cell_type": "code",
   "execution_count": 53,
   "metadata": {
    "scrolled": true
   },
   "outputs": [
    {
     "name": "stdout",
     "output_type": "stream",
     "text": [
      "{'_id': 'movie:9',\n",
      " 'title': 'Gladiator',\n",
      " 'year': 2000,\n",
      " 'director': {'_id': 'artist:4'},\n",
      " 'actors': [{'_id': 'artist:23', 'role': 'Maximus'},\n",
      "            {'_id': 'artist:147', 'role': 'Commode'},\n",
      "            {'_id': 'artist:148', 'role': 'Lucilla'},\n",
      "            {'_id': 'artist:149', 'role': 'Marc Aurele'}]}\n"
     ]
    }
   ],
   "source": [
    "# commande Mongo:\n",
    "# director = \"artist:4\"\n",
    "# role = \"Maximus\"\n",
    "# db.movies.find({\"director._id\":{$eq:director},\"actors.role\":{$eq :role}},{\"summary\":0, \"country\":0, \"genre\":0}).pretty()\n",
    "\n",
    "director = \"artist:4\"\n",
    "role = \"Maximus\"\n",
    "\n",
    "for movie in movies.find({\"director._id\":{\"$eq\":director},\"actors.role\":{\"$eq\":role}},{\"summary\":0, \"country\":0, \"genre\":0}):\n",
    "    pprint(movie, sort_dicts=False)\n"
   ]
  },
  {
   "cell_type": "markdown",
   "metadata": {},
   "source": [
    "# Critère de recherche par intervalles"
   ]
  },
  {
   "cell_type": "raw",
   "metadata": {},
   "source": [
    "Q : Ts les films produits après 2000 compris et avant 2005 exlus (dans un ordre chronologique) en se limitant au titre du film et son année de production ?"
   ]
  },
  {
   "cell_type": "code",
   "execution_count": 65,
   "metadata": {
    "scrolled": true
   },
   "outputs": [
    {
     "name": "stdout",
     "output_type": "stream",
     "text": [
      "{'title': 'Gladiator', 'year': 2000}\n",
      "{'title': 'Memento', 'year': 2000}\n",
      "{'title': 'Stalingrad', 'year': 2001}\n",
      "{'title': 'Spider-Man', 'year': 2002}\n",
      "{'title': 'The Matrix reloaded', 'year': 2003}\n",
      "{'title': 'The Matrix Revolutions', 'year': 2003}\n",
      "{'title': 'Lost in Translation', 'year': 2003}\n",
      "{'title': 'Kill Bill', 'year': 2003}\n"
     ]
    }
   ],
   "source": [
    "# commande Mongo:\n",
    "# db.movies.find({\"year\": {$gte: 2000, $lt: 2005}},{\"_id\": 0, \"title\": 1,\"year\": 1}).sort({\"year\":1}).pretty()\n",
    "\n",
    "for movie in movies.find({\"year\":{\"$gte\": 2000, \"$lt\": 2005}},{\"_id\": 0, \"title\":1, \"year\": 1}).sort(\"year\",1):\n",
    "    pprint(movie,sort_dicts=False)"
   ]
  },
  {
   "cell_type": "markdown",
   "metadata": {},
   "source": [
    "# Opérateurs booléens"
   ]
  },
  {
   "cell_type": "raw",
   "metadata": {},
   "source": [
    "Q : Lister les films parus en 1997 ou avec l'acteur id = 147 ?"
   ]
  },
  {
   "cell_type": "code",
   "execution_count": 63,
   "metadata": {
    "scrolled": true
   },
   "outputs": [
    {
     "name": "stdout",
     "output_type": "stream",
     "text": [
      "{'title': 'Titanic',\n",
      " 'year': 1997,\n",
      " 'actors': [{'_id': 'artist:109', 'role': 'Rose DeWitt Bukater'},\n",
      "            {'_id': 'artist:110', 'role': 'Jack Dawson'}]}\n",
      "{'title': 'Volte/Face',\n",
      " 'year': 1997,\n",
      " 'actors': [{'_id': 'artist:11', 'role': 'Sean Archer/Castor Troy'},\n",
      "            {'_id': 'artist:12', 'role': 'Castor Troy/Sean Archer'}]}\n",
      "{'title': 'Gladiator',\n",
      " 'year': 2000,\n",
      " 'actors': [{'_id': 'artist:23', 'role': 'Maximus'},\n",
      "            {'_id': 'artist:147', 'role': 'Commode'},\n",
      "            {'_id': 'artist:148', 'role': 'Lucilla'},\n",
      "            {'_id': 'artist:149', 'role': 'Marc Aurele'}]}\n",
      "{'title': 'Les pleins pouvoirs',\n",
      " 'year': 1997,\n",
      " 'actors': [{'_id': 'artist:20', 'role': 'Luther Whitney'},\n",
      "            {'_id': 'artist:21', 'role': 'Le président Richmond'},\n",
      "            {'_id': 'artist:69', 'role': 'Seth Frank'}]}\n",
      "{'title': 'Le monde perdu',\n",
      " 'year': 1997,\n",
      " 'actors': [{'_id': 'artist:57', 'role': 'Dr. Ian Malcolm'}]}\n",
      "{'title': 'Le cinquième élément',\n",
      " 'year': 1997,\n",
      " 'actors': [{'_id': 'artist:27', 'role': 'Major Korben Dalla'},\n",
      "            {'_id': 'artist:112', 'role': 'Leeloo'},\n",
      "            {'_id': 'artist:116', 'role': 'Jean-Baptiste Emmanuel Zorg'},\n",
      "            {'_id': 'artist:117', 'role': 'Vito Cornelius'}]}\n",
      "{'title': 'Jackie Brown',\n",
      " 'year': 1997,\n",
      " 'actors': [{'_id': 'artist:167', 'role': 'Luis Gara'},\n",
      "            {'_id': 'artist:168', 'role': 'Jackie Brown'},\n",
      "            {'_id': 'artist:169', 'role': 'Melanie'},\n",
      "            {'_id': 'artist:170', 'role': 'Ray Nicolette'},\n",
      "            {'_id': 'artist:212', 'role': 'Ordell Robbie'}]}\n"
     ]
    }
   ],
   "source": [
    "# commande Mongo:\n",
    "# db.movies.find({$or: [{\"year\": 1997}, {\"actors._id\": \"artist:147\"}] },{\"_id\": 0, \"title\": 1, \"year\": 1, \"actors\": 1}).pretty()\n",
    "\n",
    "for movie in movies.find({\"$or\": [{\"year\":1997}, {\"actors._id\": \"artist:147\"}]},{\"_id\": 0, \"title\": 1, \"year\": 1, \"actors\": 1}):\n",
    "    pprint(movie,sort_dicts=False)"
   ]
  },
  {
   "cell_type": "markdown",
   "metadata": {},
   "source": [
    "# Opérateurs ensemblistes : in, not in, any, all, exist"
   ]
  },
  {
   "cell_type": "raw",
   "metadata": {},
   "source": [
    "Q : Combien de films dans lesquels ont joué au moins un des artistes suivants : 34, 98 et 1 et afficher leur titre et la liste des actors ; sens du tri : chronologique et alphabétique croissant sur les noms des artistes ?"
   ]
  },
  {
   "cell_type": "code",
   "execution_count": 101,
   "metadata": {
    "scrolled": true
   },
   "outputs": [
    {
     "name": "stdout",
     "output_type": "stream",
     "text": [
      "4  films ont été joué par l'un des artistes: 34, 98 et 1\n",
      "{'title': 'Le parrain III',\n",
      " 'actors': [{'_id': 'artist:1', 'role': 'Mary Corleone'},\n",
      "            {'_id': 'artist:176', 'role': 'Michael Corleone'},\n",
      "            {'_id': 'artist:183', 'role': 'Kay Adams'},\n",
      "            {'_id': 'artist:186', 'role': 'Vincent Mancini'}]}\n",
      "{'title': 'Reservoir dogs',\n",
      " 'actors': [{'_id': 'artist:37', 'role': 'Mr. Brown'},\n",
      "            {'_id': 'artist:98', 'role': 'Mr. White/Larry'},\n",
      "            {'_id': 'artist:99', 'role': 'Freddy Newendyke/Mr. Orange'},\n",
      "            {'_id': 'artist:100', 'role': 'Nice Guy Eddie'},\n",
      "            {'_id': 'artist:215', 'role': 'Mr Blonde'},\n",
      "            {'_id': 'artist:217', 'role': 'Mr Pink'},\n",
      "            {'_id': 'artist:218', 'role': 'Mr Blue'}]}\n",
      "{'title': 'Bad Lieutenant',\n",
      " 'actors': [{'_id': 'artist:98', 'role': 'Le lieutenant'}]}\n",
      "{'title': 'Pulp fiction',\n",
      " 'actors': [{'_id': 'artist:11', 'role': 'Vincent Vega'},\n",
      "            {'_id': 'artist:27', 'role': 'Butch Coolidge'},\n",
      "            {'_id': 'artist:37', 'role': 'Jimmy Dimmick'},\n",
      "            {'_id': 'artist:38', 'role': 'Jules Winnfield'},\n",
      "            {'_id': 'artist:39', 'role': 'Jody'},\n",
      "            {'_id': 'artist:40', 'role': 'Mia Wallace'},\n",
      "            {'_id': 'artist:97', 'role': 'Capt. Koons'},\n",
      "            {'_id': 'artist:98', 'role': 'Winston \"The Wolf\" Wolfe'},\n",
      "            {'_id': 'artist:99', 'role': 'Pumpkin (Ringo)'}]}\n"
     ]
    },
    {
     "name": "stderr",
     "output_type": "stream",
     "text": [
      "<ipython-input-101-3f3610c636ec>:3: DeprecationWarning: count is deprecated. Use Collection.count_documents instead.\n",
      "  nb = movies.find({\"actors._id\": {\"$in\":[\"artist:1\",\"artist:34\",\"artist:98\"]}}).count()\n"
     ]
    }
   ],
   "source": [
    "# commande Mongo:\n",
    "# db.movies.find({\"actors._id\": {$in:[\"artist:1\", \"artist:34\", \"artist:98\"]}},{\"_id\":0,\"title\":1,\"actors\":1}).sort({\"year\":1, \"actors\":1}).pretty()\n",
    "\n",
    "nb = movies.find({\"actors._id\": {\"$in\":[\"artist:1\",\"artist:34\",\"artist:98\"]}}).count()\n",
    "print(nb, \" films ont été joué par l'un des artistes: 34, 98 et 1\")\n",
    "\n",
    "for movie in movies.find({\"actors._id\": {\"$in\":[\"artist:1\",\"artist:34\",\"artist:98\"]}},{\"_id\":0, \"title\":1, \"actors\":1}).sort([(\"year\",1),(\"actors\",1)]):\n",
    "    pprint(movie,sort_dicts=False)"
   ]
  },
  {
   "cell_type": "raw",
   "metadata": {},
   "source": [
    "Q : Chercher les films dans lesquels ont joué ensemble les actors 23 et 147 ?"
   ]
  },
  {
   "cell_type": "code",
   "execution_count": 86,
   "metadata": {},
   "outputs": [
    {
     "name": "stdout",
     "output_type": "stream",
     "text": [
      "{'title': 'Gladiator',\n",
      " 'actors': [{'_id': 'artist:23', 'role': 'Maximus'},\n",
      "            {'_id': 'artist:147', 'role': 'Commode'},\n",
      "            {'_id': 'artist:148', 'role': 'Lucilla'},\n",
      "            {'_id': 'artist:149', 'role': 'Marc Aurele'}]}\n"
     ]
    }
   ],
   "source": [
    "# commande Mongo:\n",
    "# db.movies.find({\"actors._id\":{$all: [\"artist:23\",\"artist:147\"]}},{\"_id\":0,\"title\":1,\"actors\":1})\n",
    "\n",
    "for movie in movies.find({\"actors._id\": {\"$all\":[\"artist:23\",\"artist:147\"]}},{\"_id\":0,\"title\":1,\"actors\":1}):\n",
    "    pprint(movie,sort_dicts=False)"
   ]
  },
  {
   "cell_type": "raw",
   "metadata": {},
   "source": [
    "Q : Combien de films dans lesquels ont joué ni l'acteur 34, ni 98, ni 1 et afficher leur titre et la liste des actors ; sens du tri : chronologique décroissant et alphabétique croissant sur les titres des films ?"
   ]
  },
  {
   "cell_type": "code",
   "execution_count": 102,
   "metadata": {
    "scrolled": true
   },
   "outputs": [
    {
     "name": "stdout",
     "output_type": "stream",
     "text": [
      "84 films n'ont pas été joué par l'un des artistes: 34, 98 et 1\n",
      "{'title': 'Nous trois ou rien', 'year': 2015, 'actors': []}\n",
      "{'title': 'Interstellar',\n",
      " 'year': 2014,\n",
      " 'actors': [{'_id': 'artist:267', 'role': 'Cooper'},\n",
      "            {'_id': 'artist:268', 'role': '   Brand '},\n",
      "            {'_id': 'artist:269', 'role': 'Professor Brand'}]}\n",
      "{'title': 'Django unchained',\n",
      " 'year': 2012,\n",
      " 'actors': [{'_id': 'artist:110', 'role': 'Calvin Candie'},\n",
      "            {'_id': 'artist:212', 'role': 'Stephen'},\n",
      "            {'_id': 'artist:255', 'role': 'Django'},\n",
      "            {'_id': 'artist:256', 'role': 'Dr. King Schultz'}]}\n",
      "{'title': 'The Dark Knight Rises',\n",
      " 'year': 2012,\n",
      " 'actors': [{'_id': 'artist:22', 'role': 'Lucius Fox'},\n",
      "            {'_id': 'artist:116', 'role': 'Commissioner Gordon'},\n",
      "            {'_id': 'artist:268', 'role': 'Selina'},\n",
      "            {'_id': 'artist:269', 'role': 'Alfred'},\n",
      "            {'_id': 'artist:271', 'role': 'Miranda'},\n",
      "            {'_id': 'artist:274', 'role': 'Bruce Wayne / Batman'}]}\n",
      "{'title': 'Inception',\n",
      " 'year': 2010,\n",
      " 'actors': [{'_id': 'artist:110', 'role': 'Cobb'},\n",
      "            {'_id': 'artist:269', 'role': 'Miles'},\n",
      "            {'_id': 'artist:270', 'role': 'Ariadne'},\n",
      "            {'_id': 'artist:271', 'role': 'Mal'}]}\n",
      "{'title': 'Inglourious Basterds',\n",
      " 'year': 2009,\n",
      " 'actors': [{'_id': 'artist:32', 'role': 'Lt. Aldo Raine'},\n",
      "            {'_id': 'artist:256', 'role': 'Col. Hans Landa'},\n",
      "            {'_id': 'artist:257', 'role': 'Shoshana'},\n",
      "            {'_id': 'artist:258', 'role': 'Lt. Archie Hicox'}]}\n",
      "{'title': 'Un prophète',\n",
      " 'year': 2009,\n",
      " 'actors': [{'_id': 'artist:279', 'role': 'Malik El Djebena '},\n",
      "            {'_id': 'artist:280', 'role': 'César Luciani'}]}\n",
      "{'title': 'The Dark Knight',\n",
      " 'year': 2008,\n",
      " 'actors': [{'_id': 'artist:22', 'role': 'Lucius Fox'},\n",
      "            {'_id': 'artist:116', 'role': 'Gordon'},\n",
      "            {'_id': 'artist:269', 'role': 'Alfred'},\n",
      "            {'_id': 'artist:274', 'role': 'Bruce Wayne / Batman'},\n",
      "            {'_id': 'artist:276', 'role': 'Joker'},\n",
      "            {'_id': 'artist:277', 'role': 'Rachel'}]}\n",
      "{'title': 'No country for old men',\n",
      " 'year': 2007,\n",
      " 'actors': [{'_id': 'artist:250', 'role': 'Anton Chigurh'},\n",
      "            {'_id': 'artist:252', 'role': 'Ed Tom Bell'},\n",
      "            {'_id': 'artist:253', 'role': 'Llewelyn Moss'}]}\n",
      "{'title': 'Casino Royale',\n",
      " 'year': 2006,\n",
      " 'actors': [{'_id': 'artist:247', 'role': 'James Bond'},\n",
      "            {'_id': 'artist:248', 'role': 'Vesper Lynd'}]}\n",
      "{'title': 'Marie Antoinette',\n",
      " 'year': 2006,\n",
      " 'actors': [{'_id': 'artist:2', 'role': 'Marie Antoinette'}]}\n",
      "{'title': 'Batman begins',\n",
      " 'year': 2005,\n",
      " 'actors': [{'_id': 'artist:22', 'role': 'Lucius Fox '},\n",
      "            {'_id': 'artist:116', 'role': ' Jim Gordon '},\n",
      "            {'_id': 'artist:269', 'role': 'Alfred'},\n",
      "            {'_id': 'artist:274', 'role': ' Bruce Wayne / Batman '},\n",
      "            {'_id': 'artist:275', 'role': 'Ducard'}]}\n",
      "{'title': 'Million Dollar Baby',\n",
      " 'year': 2005,\n",
      " 'actors': [{'_id': 'artist:20', 'role': 'Frankie Dunn'},\n",
      "            {'_id': 'artist:22', 'role': 'Eddie Scrap-Iron Dupris'},\n",
      "            {'_id': 'artist:224', 'role': 'Maggie Fitzerald'}]}\n",
      "{'title': 'Kill Bill',\n",
      " 'year': 2003,\n",
      " 'actors': [{'_id': 'artist:40', 'role': 'La mariée, alias \"Black Mamba\"'},\n",
      "            {'_id': 'artist:213', 'role': 'O-Ren Ishii'},\n",
      "            {'_id': 'artist:214', 'role': 'Bill'},\n",
      "            {'_id': 'artist:215', 'role': 'Budd / Sidewinder'},\n",
      "            {'_id': 'artist:216', 'role': 'Elle Driver'}]}\n",
      "{'title': 'Lost in Translation',\n",
      " 'year': 2003,\n",
      " 'actors': [{'_id': 'artist:173', 'role': 'Bob Harris'},\n",
      "            {'_id': 'artist:174', 'role': 'Charlotte'},\n",
      "            {'_id': 'artist:175', 'role': 'John'},\n",
      "            {'_id': 'artist:176', 'role': 'Kelly'},\n",
      "            {'_id': 'artist:177', 'role': 'Patron Nightclub'}]}\n",
      "{'title': 'The Matrix Revolutions',\n",
      " 'year': 2003,\n",
      " 'actors': [{'_id': 'artist:62', 'role': 'Neo'},\n",
      "            {'_id': 'artist:63', 'role': 'Morpheus'},\n",
      "            {'_id': 'artist:134', 'role': 'Agent Smith'},\n",
      "            {'_id': 'artist:136', 'role': 'Trinity'},\n",
      "            {'_id': 'artist:137', 'role': \"L'Oracle\"}]}\n",
      "{'title': 'The Matrix reloaded',\n",
      " 'year': 2003,\n",
      " 'actors': [{'_id': 'artist:62', 'role': 'Neo'},\n",
      "            {'_id': 'artist:63', 'role': 'Morpheus'},\n",
      "            {'_id': 'artist:210', 'role': 'Trinity'},\n",
      "            {'_id': 'artist:211', 'role': 'Agent Smith'}]}\n",
      "{'title': 'Spider-Man',\n",
      " 'year': 2002,\n",
      " 'actors': [{'_id': 'artist:124', 'role': 'Spider-Man'},\n",
      "            {'_id': 'artist:125', 'role': 'Norman Osborn'},\n",
      "            {'_id': 'artist:126', 'role': 'Mary Jane Watson'},\n",
      "            {'_id': 'artist:127', 'role': 'Oncle Ben'},\n",
      "            {'_id': 'artist:128', 'role': 'Tante May'}]}\n",
      "{'title': 'Stalingrad',\n",
      " 'year': 2001,\n",
      " 'actors': [{'_id': 'artist:182', 'role': 'Vassili Zaïtzev'},\n",
      "            {'_id': 'artist:183', 'role': 'major König'}]}\n",
      "{'title': 'Gladiator',\n",
      " 'year': 2000,\n",
      " 'actors': [{'_id': 'artist:23', 'role': 'Maximus'},\n",
      "            {'_id': 'artist:147', 'role': 'Commode'},\n",
      "            {'_id': 'artist:148', 'role': 'Lucilla'},\n",
      "            {'_id': 'artist:149', 'role': 'Marc Aurele'}]}\n",
      "{'title': 'Memento',\n",
      " 'year': 2000,\n",
      " 'actors': [{'_id': 'artist:272', 'role': 'Leonard'},\n",
      "            {'_id': 'artist:273', 'role': 'Natalie'}]}\n",
      "{'title': 'American Beauty',\n",
      " 'year': 1999,\n",
      " 'actors': [{'_id': 'artist:18', 'role': 'Lester Burnham'},\n",
      "            {'_id': 'artist:19', 'role': 'Carolyn Burnham'}]}\n",
      "{'title': 'Eyes Wide Shut',\n",
      " 'year': 1999,\n",
      " 'actors': [{'_id': 'artist:65', 'role': 'Docteur William \"Bill\" Harford'},\n",
      "            {'_id': 'artist:102', 'role': 'Alice Harford'}]}\n",
      "{'title': \"Jeanne d'Arc\",\n",
      " 'year': 1999,\n",
      " 'actors': [{'_id': 'artist:80', 'role': None},\n",
      "            {'_id': 'artist:112', 'role': \"Jeanne d'Arc\"},\n",
      "            {'_id': 'artist:113', 'role': \"Yolande d'Aragon\"},\n",
      "            {'_id': 'artist:114', 'role': 'Charles VII'},\n",
      "            {'_id': 'artist:115', 'role': 'Dunois'}]}\n",
      "{'title': 'Matrix',\n",
      " 'year': 1999,\n",
      " 'actors': [{'_id': 'artist:62', 'role': 'Neo'},\n",
      "            {'_id': 'artist:63', 'role': 'Morpheus'}]}\n",
      "{'title': 'Sixième sens',\n",
      " 'year': 1999,\n",
      " 'actors': [{'_id': 'artist:27', 'role': 'Malcom Crowe'},\n",
      "            {'_id': 'artist:171', 'role': 'Cole Sear'}]}\n",
      "{'title': 'Sleepy Hollow',\n",
      " 'year': 1999,\n",
      " 'actors': [{'_id': 'artist:14', 'role': 'Constable Ichabod Crane'},\n",
      "            {'_id': 'artist:96', 'role': 'Katrina Anne Van Tassel'},\n",
      "            {'_id': 'artist:97', 'role': 'Le cavalier'}]}\n",
      "{'title': 'Godzilla',\n",
      " 'year': 1998,\n",
      " 'actors': [{'_id': 'artist:59', 'role': 'Dr. Nikos Tatopoulos'},\n",
      "            {'_id': 'artist:60', 'role': 'Philippe Roaché'}]}\n",
      "{'title': 'Mary à tout prix',\n",
      " 'year': 1998,\n",
      " 'actors': [{'_id': 'artist:42', 'role': 'Mary Jensen Matthews'},\n",
      "            {'_id': 'artist:43', 'role': 'Pat Healy'}]}\n",
      "{'title': 'Jackie Brown',\n",
      " 'year': 1997,\n",
      " 'actors': [{'_id': 'artist:167', 'role': 'Luis Gara'},\n",
      "            {'_id': 'artist:168', 'role': 'Jackie Brown'},\n",
      "            {'_id': 'artist:169', 'role': 'Melanie'},\n",
      "            {'_id': 'artist:170', 'role': 'Ray Nicolette'},\n",
      "            {'_id': 'artist:212', 'role': 'Ordell Robbie'}]}\n",
      "{'title': 'Le cinquième élément',\n",
      " 'year': 1997,\n",
      " 'actors': [{'_id': 'artist:27', 'role': 'Major Korben Dalla'},\n",
      "            {'_id': 'artist:112', 'role': 'Leeloo'},\n",
      "            {'_id': 'artist:116', 'role': 'Jean-Baptiste Emmanuel Zorg'},\n",
      "            {'_id': 'artist:117', 'role': 'Vito Cornelius'}]}\n",
      "{'title': 'Le monde perdu',\n",
      " 'year': 1997,\n",
      " 'actors': [{'_id': 'artist:57', 'role': 'Dr. Ian Malcolm'}]}\n",
      "{'title': 'Les pleins pouvoirs',\n",
      " 'year': 1997,\n",
      " 'actors': [{'_id': 'artist:20', 'role': 'Luther Whitney'},\n",
      "            {'_id': 'artist:21', 'role': 'Le président Richmond'},\n",
      "            {'_id': 'artist:69', 'role': 'Seth Frank'}]}\n",
      "{'title': 'Titanic',\n",
      " 'year': 1997,\n",
      " 'actors': [{'_id': 'artist:109', 'role': 'Rose DeWitt Bukater'},\n",
      "            {'_id': 'artist:110', 'role': 'Jack Dawson'}]}\n",
      "{'title': 'Volte/Face',\n",
      " 'year': 1997,\n",
      " 'actors': [{'_id': 'artist:11', 'role': 'Sean Archer/Castor Troy'},\n",
      "            {'_id': 'artist:12', 'role': 'Castor Troy/Sean Archer'}]}\n",
      "{'title': 'Fargo',\n",
      " 'year': 1996,\n",
      " 'actors': [{'_id': 'artist:217', 'role': 'Carl Showalter'},\n",
      "            {'_id': 'artist:254', 'role': ' Jerry Lundegaard '}]}\n",
      "{'title': 'Mission: Impossible',\n",
      " 'year': 1996,\n",
      " 'actors': [{'_id': 'artist:60', 'role': 'Franz Krieger'},\n",
      "            {'_id': 'artist:65', 'role': 'Ethan Hunt'},\n",
      "            {'_id': 'artist:66', 'role': 'Jim Phelps'},\n",
      "            {'_id': 'artist:67', 'role': 'Claire Phelps'}]}\n",
      "{'title': 'Casino',\n",
      " 'year': 1995,\n",
      " 'actors': [{'_id': 'artist:167', 'role': \"Sam 'Ace' Rothstein\"},\n",
      "            {'_id': 'artist:243', 'role': '  Nicky Santoro '},\n",
      "            {'_id': 'artist:245', 'role': 'Ginger McKenna'}]}\n",
      "{'title': 'Heat', 'year': 1995, 'actors': [{'_id': 'artist:167', 'role': None}]}\n",
      "{'title': 'Seven',\n",
      " 'year': 1995,\n",
      " 'actors': [{'_id': 'artist:18', 'role': 'Doe'},\n",
      "            {'_id': 'artist:22', 'role': 'Somerset'},\n",
      "            {'_id': 'artist:32', 'role': 'Mills'}]}\n",
      "{'title': 'Twelve Monkeys',\n",
      " 'year': 1995,\n",
      " 'actors': [{'_id': 'artist:27', 'role': 'Cole'}]}\n",
      "{'title': 'Une journée en enfer',\n",
      " 'year': 1995,\n",
      " 'actors': [{'_id': 'artist:27', 'role': 'McClane'},\n",
      "            {'_id': 'artist:38', 'role': 'Zeus Carver'},\n",
      "            {'_id': 'artist:169', 'role': 'Simon Gruber'}]}\n",
      "{'title': 'Usual suspects',\n",
      " 'year': 1995,\n",
      " 'actors': [{'_id': 'artist:18', 'role': 'Roger \"Verbal\" Kint'},\n",
      "            {'_id': 'artist:143', 'role': 'Micheal McManus'},\n",
      "            {'_id': 'artist:144', 'role': 'Dean Keaton'},\n",
      "            {'_id': 'artist:145', 'role': 'Fred Fenster'},\n",
      "            {'_id': 'artist:146', 'role': 'Todd Hockney'}]}\n",
      "{'title': 'Léon',\n",
      " 'year': 1994,\n",
      " 'actors': [{'_id': 'artist:60', 'role': 'Léon'},\n",
      "            {'_id': 'artist:116', 'role': 'Norman Stansfield'},\n",
      "            {'_id': 'artist:118', 'role': 'Mathilda'}]}\n",
      "{'title': 'Impitoyable',\n",
      " 'year': 1992,\n",
      " 'actors': [{'_id': 'artist:20', 'role': 'William Munny'},\n",
      "            {'_id': 'artist:21', 'role': 'Little Bill Dagget'},\n",
      "            {'_id': 'artist:22', 'role': 'Ned Logan'}]}\n",
      "{'title': '58 minutes pour vivre',\n",
      " 'year': 1990,\n",
      " 'actors': [{'_id': 'artist:27', 'role': 'McClane'}]}\n",
      "{'title': 'King of New York',\n",
      " 'year': 1990,\n",
      " 'actors': [{'_id': 'artist:63', 'role': 'Jimmy Jump'},\n",
      "            {'_id': 'artist:97', 'role': 'Frank White'},\n",
      "            {'_id': 'artist:124', 'role': 'Thomas Flanigan'},\n",
      "            {'_id': 'artist:131', 'role': 'Dennis Gilley'},\n",
      "            {'_id': 'artist:132', 'role': 'Thomas Flanigan'},\n",
      "            {'_id': 'artist:217', 'role': 'Test tube'}]}\n",
      "{'title': 'Le silence des agneaux',\n",
      " 'year': 1990,\n",
      " 'actors': [{'_id': 'artist:50', 'role': 'Dr. Hannibal Lecter'},\n",
      "            {'_id': 'artist:51', 'role': 'Clarice Starling'}]}\n",
      "{'title': 'Les affranchis',\n",
      " 'year': 1990,\n",
      " 'actors': [{'_id': 'artist:167', 'role': 'James Conway'},\n",
      "            {'_id': 'artist:242', 'role': 'Henry Hill'},\n",
      "            {'_id': 'artist:243', 'role': 'Tommy DeVito'},\n",
      "            {'_id': 'artist:244', 'role': 'Karen Hill'}]}\n",
      "{'title': 'Nikita',\n",
      " 'year': 1990,\n",
      " 'actors': [{'_id': 'artist:115', 'role': 'Bob'},\n",
      "            {'_id': 'artist:119', 'role': 'Nikita'},\n",
      "            {'_id': 'artist:120', 'role': 'Marco'}]}\n",
      "{'title': 'Van Gogh',\n",
      " 'year': 1990,\n",
      " 'actors': [{'_id': 'artist:30', 'role': 'Van Gogh'}]}\n",
      "{'title': 'De bruit et de fureur',\n",
      " 'year': 1988,\n",
      " 'actors': [{'_id': 'artist:139', 'role': 'Marcel'},\n",
      "            {'_id': 'artist:140', 'role': 'Enseignante'},\n",
      "            {'_id': 'artist:141', 'role': 'Bruno'}]}\n",
      "{'title': 'Le grand bleu',\n",
      " 'year': 1988,\n",
      " 'actors': [{'_id': 'artist:39', 'role': 'Johanna'},\n",
      "            {'_id': 'artist:60', 'role': 'Enzo Molinari'},\n",
      "            {'_id': 'artist:121', 'role': 'Jacques Mayol'}]}\n",
      "{'title': 'Piège de cristal',\n",
      " 'year': 1988,\n",
      " 'actors': [{'_id': 'artist:27', 'role': 'McClane'}]}\n",
      "{'title': 'Rain Man',\n",
      " 'year': 1988,\n",
      " 'actors': [{'_id': 'artist:65', 'role': 'Charlie Babbitt'},\n",
      "            {'_id': 'artist:80', 'role': 'Raymond Babbitt'}]}\n",
      "{'title': 'Le last_name de la rose',\n",
      " 'year': 1986,\n",
      " 'actors': [{'_id': 'artist:35', 'role': 'Baskerville'},\n",
      "            {'_id': 'artist:36', 'role': 'de Melk'}]}\n",
      "{'title': 'Sacrifice', 'year': 1986, 'actors': []}\n",
      "{'title': 'Top Gun',\n",
      " 'year': 1986,\n",
      " 'actors': [{'_id': 'artist:53', 'role': 'Iceman'},\n",
      "            {'_id': 'artist:65', 'role': 'Lt. Pete Maverick Mitchell'},\n",
      "            {'_id': 'artist:82', 'role': 'Charlotte Blackwood'}]}\n",
      "{'title': 'Terminator',\n",
      " 'year': 1984,\n",
      " 'actors': [{'_id': 'artist:44', 'role': 'Terminator'}]}\n",
      "{'title': 'Le retour du Jedi',\n",
      " 'year': 1983,\n",
      " 'actors': [{'_id': 'artist:24', 'role': 'Han Solo'},\n",
      "            {'_id': 'artist:92', 'role': 'Luke Skywalker'},\n",
      "            {'_id': 'artist:93', 'role': 'Princesse Leia'}]}\n",
      "{'title': 'Blade Runner',\n",
      " 'year': 1982,\n",
      " 'actors': [{'_id': 'artist:24', 'role': 'Deckard'},\n",
      "            {'_id': 'artist:25', 'role': 'Batty'}]}\n",
      "{'title': 'Kagemusha', 'year': 1980, 'actors': []}\n",
      "{'title': 'Le dernier métro',\n",
      " 'year': 1980,\n",
      " 'actors': [{'_id': 'artist:130', 'role': 'Marion Steiner'},\n",
      "            {'_id': 'artist:261', 'role': 'Bernard Granger'},\n",
      "            {'_id': 'artist:262', 'role': 'Jean-Loup Cottins'}]}\n",
      "{'title': 'Shining',\n",
      " 'year': 1980,\n",
      " 'actors': [{'_id': 'artist:103', 'role': 'Jack Torrance'}]}\n",
      "{'title': 'Alien',\n",
      " 'year': 1979,\n",
      " 'actors': [{'_id': 'artist:5', 'role': 'Ripley'}]}\n",
      "{'title': 'Les bronzés font du ski',\n",
      " 'year': 1979,\n",
      " 'actors': [{'_id': 'artist:75', 'role': 'Nathalie Morin'},\n",
      "            {'_id': 'artist:76', 'role': 'Christiane'},\n",
      "            {'_id': 'artist:84', 'role': 'Jean-Claude Dus'},\n",
      "            {'_id': 'artist:85', 'role': 'Jérôme'},\n",
      "            {'_id': 'artist:86', 'role': 'Popeye'}]}\n",
      "{'title': 'Le gendarme et les extra-terrestres',\n",
      " 'year': 1978,\n",
      " 'actors': [{'_id': 'artist:72', 'role': 'Inspecteur Cruchot'},\n",
      "            {'_id': 'artist:73', 'role': 'Adjudant Gerber'}]}\n",
      "{'title': 'Taxi driver',\n",
      " 'year': 1976,\n",
      " 'actors': [{'_id': 'artist:51', 'role': '1962'},\n",
      "            {'_id': 'artist:167', 'role': 'Travis Bickle '}]}\n",
      "{'title': 'Les dents de la mer',\n",
      " 'year': 1975,\n",
      " 'actors': [{'_id': 'artist:46', 'role': 'Martin Brody'},\n",
      "            {'_id': 'artist:47', 'role': 'Quint'},\n",
      "            {'_id': 'artist:48', 'role': 'Matt Hooper'}]}\n",
      "{'title': 'Le parrain II',\n",
      " 'year': 1974,\n",
      " 'actors': [{'_id': 'artist:167', 'role': 'Don Vito Corleone'},\n",
      "            {'_id': 'artist:176', 'role': 'Michael Corleone'},\n",
      "            {'_id': 'artist:183', 'role': 'Kay Adams'},\n",
      "            {'_id': 'artist:184', 'role': 'Tom Hagen'}]}\n",
      "{'title': 'Soleil vert',\n",
      " 'year': 1973,\n",
      " 'actors': [{'_id': 'artist:8', 'role': 'sol'}]}\n",
      "{'title': 'Le parrain',\n",
      " 'year': 1972,\n",
      " 'actors': [{'_id': 'artist:137', 'role': 'Sonny Corleone'},\n",
      "            {'_id': 'artist:155', 'role': 'Capt. McCluskey'},\n",
      "            {'_id': 'artist:176', 'role': 'Michael Corleone'},\n",
      "            {'_id': 'artist:182', 'role': 'Do Vito Corleone'},\n",
      "            {'_id': 'artist:183', 'role': 'Kay Adams'},\n",
      "            {'_id': 'artist:184', 'role': 'Tom Hagen'}]}\n",
      "{'title': 'Le bon, la brute et le truand',\n",
      " 'year': 1966,\n",
      " 'actors': [{'_id': 'artist:20', 'role': None}]}\n",
      "{'title': 'Pour quelques dollars de plus', 'year': 1965, 'actors': []}\n",
      "{'title': 'Pas de printemps pour Marnie',\n",
      " 'year': 1964,\n",
      " 'actors': [{'_id': 'artist:35', 'role': '\\n                       Mark R'},\n",
      "            {'_id': 'artist:95', 'role': 'Marnie Edgar'}]}\n",
      "{'title': 'Les oiseaux',\n",
      " 'year': 1963,\n",
      " 'actors': [{'_id': 'artist:94', 'role': 'Mitch Brenner'},\n",
      "            {'_id': 'artist:95', 'role': 'Melanie Daniels'}]}\n",
      "{'title': 'Psychose',\n",
      " 'year': 1960,\n",
      " 'actors': [{'_id': 'artist:88', 'role': 'Bates'},\n",
      "            {'_id': 'artist:89', 'role': 'Lila Crane'},\n",
      "            {'_id': 'artist:90', 'role': 'Marion Crane'}]}\n",
      "{'title': 'La mort aux trousses',\n",
      " 'year': 1959,\n",
      " 'actors': [{'_id': 'artist:105', 'role': 'Roger O. Thornhill'},\n",
      "            {'_id': 'artist:106', 'role': 'Eve Kendall'},\n",
      "            {'_id': 'artist:107', 'role': 'Philipp Vandamm'}]}\n",
      "{'title': 'Les quatre cents coups',\n",
      " 'year': 1959,\n",
      " 'actors': [{'_id': 'artist:260', 'role': 'Antoine Doinel'}]}\n",
      "{'title': 'Vertigo',\n",
      " 'year': 1958,\n",
      " 'actors': [{'_id': 'artist:15', 'role': 'John Ferguson'},\n",
      "            {'_id': 'artist:16', 'role': 'Madeleine Elster'},\n",
      "            {'_id': 'artist:282', 'role': None}]}\n",
      "{'title': 'Fenêtre sur cour', 'year': 1954, 'actors': []}\n",
      "{'title': 'Rio Grande',\n",
      " 'year': 1950,\n",
      " 'actors': [{'_id': 'artist:264', 'role': 'Lt. Col. Kirby Yorke'},\n",
      "            {'_id': 'artist:265', 'role': 'Mrs. Kathleen Yorke'}]}\n",
      "{'title': 'Skyfall',\n",
      " 'year': 1012,\n",
      " 'actors': [{'_id': 'artist:247', 'role': 'James Bond'},\n",
      "            {'_id': 'artist:249', 'role': 'M'},\n",
      "            {'_id': 'artist:250', 'role': 'Silva'}]}\n",
      "{'title': 'Inglourious Basterds', 'year': 209, 'actors': []}\n"
     ]
    },
    {
     "name": "stderr",
     "output_type": "stream",
     "text": [
      "<ipython-input-102-1f7fec04f0ea>:5: DeprecationWarning: count is deprecated. Use Collection.count_documents instead.\n",
      "  nb = movies.find({\"actors._id\": {\"$nin\":[\"artist:1\",\"artist:34\",\"artist:98\"]}}).count()\n"
     ]
    }
   ],
   "source": [
    "# commande Mongo:\n",
    "# db.movies.find({\"actors._id\":{$nin:[\"artist:1\",\"artist:34\",\"artist:98\"]}}).count()\n",
    "# db.movies.find({\"actors._id\":{$nin:[\"artist:1\",\"artist:34\",\"artist:98\"]}},{\"_id\":0,\"title\":1,\"actors\":1}).sort({\"years\":-1,\"title\":1}).pretty()\n",
    "\n",
    "nb = movies.find({\"actors._id\": {\"$nin\":[\"artist:1\",\"artist:34\",\"artist:98\"]}}).count()\n",
    "print(nb, \"films n'ont pas été joué par l'un des artistes: 34, 98 et 1\")\n",
    "\n",
    "for movie in movies.find({\"actors._id\": {\"$nin\":[\"artist:1\",\"artist:34\",\"artist:98\"]}},{\"_id\":0,\"title\":1,\"actors\":1,\"year\":1}).sort([(\"year\",-1),(\"title\",1)]):\n",
    "    pprint(movie,sort_dicts=False)"
   ]
  },
  {
   "cell_type": "raw",
   "metadata": {},
   "source": [
    "Q : Combien de films qui n’ont pas d’attribut actors ? Combien de films dont l'attribut actors n'est pas renseigné et les afficher ?"
   ]
  },
  {
   "cell_type": "code",
   "execution_count": 106,
   "metadata": {},
   "outputs": [
    {
     "name": "stdout",
     "output_type": "stream",
     "text": [
      "0 films n’ont pas d’attribut actors\n"
     ]
    },
    {
     "name": "stderr",
     "output_type": "stream",
     "text": [
      "<ipython-input-106-2fc8f72b6181>:5: DeprecationWarning: count is deprecated. Use Collection.count_documents instead.\n",
      "  nb = movies.find({\"actors\":{\"$exists\":False}}).count()\n"
     ]
    }
   ],
   "source": [
    "# Films qui n'ont pas d'attribut actors\n",
    "# commande Mongo: \n",
    "# db.movies.find({\"actors\":{$exists : false}}).count()\n",
    "\n",
    "nb = movies.find({\"actors\":{\"$exists\":False}}).count()\n",
    "print (nb,\"films n’ont pas d’attribut actors\")"
   ]
  },
  {
   "cell_type": "code",
   "execution_count": 108,
   "metadata": {
    "scrolled": true
   },
   "outputs": [
    {
     "name": "stdout",
     "output_type": "stream",
     "text": [
      "6 films n’ont pas d’attribut actors\n",
      "{'_id': 'movie:4',\n",
      " 'title': 'Sacrifice',\n",
      " 'year': 1986,\n",
      " 'genre': 'drama',\n",
      " 'summary': None,\n",
      " 'country': 'FR',\n",
      " 'director': {'_id': 'artist:9'},\n",
      " 'actors': []}\n",
      "{'_id': 'movie:25',\n",
      " 'title': 'Kagemusha',\n",
      " 'year': 1980,\n",
      " 'genre': 'Guerre',\n",
      " 'summary': 'Au XVIe siecle, Takeda, grand seigneur trouble par les guerres '\n",
      "            \"civiles de son pays, fait appel a un Kagemusha pour l'aider dans \"\n",
      "            'ses batailles. Takeda est blesse et avant de mourir, il exige que '\n",
      "            \"sa mort soit tenue secrete pendant trois ans afin d'eviter un \"\n",
      "            'eclatement du clan. Le Kagemusha devra le remplacer... ',\n",
      " 'country': 'JP',\n",
      " 'director': {'_id': 'artist:68'},\n",
      " 'actors': []}\n",
      "{'_id': 'movie:40',\n",
      " 'title': 'Fenêtre sur cour',\n",
      " 'year': 1954,\n",
      " 'genre': 'Suspense',\n",
      " 'summary': \"En repos forcé à cause d'une jambe plâtrée, le reporter L.B. \"\n",
      "            \"Jefferies observe au téléobjectif les voisins de l'immeuble d'en \"\n",
      "            \"face. C'est ainsi qu'il remarque le curieux manège d'un \"\n",
      "            \"représentant de commerce, M. Thorwald, qu'il soupconne très vite \"\n",
      "            \"d'avoir assassiné sa femme... \",\n",
      " 'country': 'USA',\n",
      " 'director': {'_id': 'artist:3'},\n",
      " 'actors': []}\n",
      "{'_id': 'movie:64',\n",
      " 'title': 'Pour quelques dollars de plus',\n",
      " 'year': 1965,\n",
      " 'genre': 'Western',\n",
      " 'summary': 'Le colonel Douglas Mortimer collabore avec un chasseur de primes '\n",
      "            'surlast_namemé L\\'\"Etranger\". Tous les deux souhaitent capturer '\n",
      "            'Indio, un tueur fou, qui sème la terreur autour de lui. Ce '\n",
      "            \"dernier et ses hommes sont sur le point de piller la banque d'El \"\n",
      "            'Paso.',\n",
      " 'country': 'IT',\n",
      " 'director': {'_id': 'artist:219'},\n",
      " 'actors': []}\n",
      "{'_id': 'movie:79',\n",
      " 'title': 'Inglourious Basterds',\n",
      " 'year': 209,\n",
      " 'genre': 'Guerre',\n",
      " 'summary': 'Dans la France occupée de 1940, Shosanna Dreyfus assiste à '\n",
      "            \"l'exécution de sa famille tombée entre les mains du colonel nazi \"\n",
      "            \"Hans Landa. Shosanna s'échappe de justesse et s'enfuit à Paris où \"\n",
      "            'elle se construit une nouvelle identité en devenant exploitante '\n",
      "            \"d'une salle de cinéma.Quelque part ailleurs en Europe, le \"\n",
      "            'lieutenant Aldo Raine forme un groupe de soldats juifs américains '\n",
      "            'pour mener des actions punitives particulièrement sanglantes '\n",
      "            'contre les nazis. \"Les bâtards\", last_name sous lequel leurs '\n",
      "            \"ennemis vont apprendre à les connaître, se joignent à l'actrice \"\n",
      "            'allemande et agent secret Bridget von Hammersmark pour tenter '\n",
      "            \"d'éliminer les hauts dignitaires du Troisième Reich. Leurs \"\n",
      "            \"destins vont se jouer à l'entrée du cinéma où Shosanna est \"\n",
      "            'décidée à mettre à exécution une vengeance très personnelle... ',\n",
      " 'country': 'USA',\n",
      " 'director': {'_id': 'artist:37'},\n",
      " 'actors': []}\n",
      "{'_id': 'movie:92',\n",
      " 'title': 'Nous trois ou rien',\n",
      " 'year': 2015,\n",
      " 'genre': 'drama',\n",
      " 'summary': 'D’un petit village du sud de l’Iran aux cités parisiennes, '\n",
      "            'Kheiron nous raconte le destin hors du commun de ses parents '\n",
      "            'Hibat et Fereshteh, éternels optimistes, dans une comédie aux '\n",
      "            'airs de conte universel qui évoque l’amour familial, le don de '\n",
      "            'soi et surtout l’idéal d’un vivre-ensemble. ',\n",
      " 'country': 'FR',\n",
      " 'director': {'_id': 'artist:281'},\n",
      " 'actors': []}\n"
     ]
    },
    {
     "name": "stderr",
     "output_type": "stream",
     "text": [
      "<ipython-input-108-b2b013362203>:5: DeprecationWarning: count is deprecated. Use Collection.count_documents instead.\n",
      "  nb = movies.find({\"actors\":{\"$size\":0}}).count()\n"
     ]
    }
   ],
   "source": [
    "# Films dont l'attribut actors n'est pas renseigné et les afficher\n",
    "# commande Mongo: \n",
    "# db.movies.find({actors:{$size:0}}).count()\n",
    "# db.movies.find({actors:{$size:0}})\n",
    "\n",
    "nb = movies.find({\"actors\":{\"$size\":0}}).count()\n",
    "print (nb,\"films ont l'attribut actors mais n'est pas renseigné\")\n",
    "\n",
    "for movie in movies.find({\"actors\":{\"$size\":0}}):\n",
    "    pprint(movie,sort_dicts=False)"
   ]
  },
  {
   "cell_type": "raw",
   "metadata": {},
   "source": [
    "Q : Donnez tous les films dont le directeur est Clint Eastwood ?"
   ]
  },
  {
   "cell_type": "code",
   "execution_count": 6,
   "metadata": {
    "scrolled": true
   },
   "outputs": [
    {
     "name": "stdout",
     "output_type": "stream",
     "text": [
      "{'_id': 'movie:8', 'title': 'Impitoyable', 'director': {'_id': 'artist:20'}}\n",
      "{'_id': 'movie:26',\n",
      " 'title': 'Les pleins pouvoirs',\n",
      " 'director': {'_id': 'artist:20'}}\n",
      "{'_id': 'movie:63',\n",
      " 'title': 'Million Dollar Baby',\n",
      " 'director': {'_id': 'artist:20'}}\n"
     ]
    }
   ],
   "source": [
    "# commande Mongo:\n",
    "# eastwood = db.artists.findOne({\"first_name\": \"Clint\", \"last_name\": \"Eastwood\"})\n",
    "# db.movies.find({\"director._id\": eastwood['_id']}, {\"title\": 1, \"director._id\" : 1})\n",
    "\n",
    "eastwood = artists.find_one({\"first_name\":\"Clint\", \"last_name\": \"Eastwood\"})\n",
    "\n",
    "for movie in movies.find({\"director._id\": eastwood['_id']},{\"title\":1, \"director._id\": 1}):\n",
    "    pprint(movie, sort_dicts=False)"
   ]
  },
  {
   "cell_type": "markdown",
   "metadata": {},
   "source": [
    "# Expressions régulières ?"
   ]
  },
  {
   "cell_type": "raw",
   "metadata": {},
   "source": [
    "Q : Tous les films dont le titre commence par 'Re' ?"
   ]
  },
  {
   "cell_type": "code",
   "execution_count": 17,
   "metadata": {
    "scrolled": true
   },
   "outputs": [
    {
     "name": "stdout",
     "output_type": "stream",
     "text": [
      "{'_id': 'movie:36',\n",
      " 'title': 'Reservoir dogs',\n",
      " 'year': 1992,\n",
      " 'genre': 'crime',\n",
      " 'country': 'USA',\n",
      " 'director': {'_id': 'artist:37'}}\n"
     ]
    }
   ],
   "source": [
    "# commande Mongo:\n",
    "# db.movies.find ({\"title\": /^Re/}, {\"actors\": 0, \"summary\": 0}).pretty()\n",
    "\n",
    "for movie in movies.find({\"title\": {\"$regex\": \"^Re\"}},{\"actors\":0,\"summary\":0}):\n",
    "    pprint(movie,sort_dicts=False)"
   ]
  },
  {
   "cell_type": "raw",
   "metadata": {},
   "source": [
    "Q : Tous les films dont le titre finit par 'la' ?"
   ]
  },
  {
   "cell_type": "code",
   "execution_count": 21,
   "metadata": {},
   "outputs": [
    {
     "name": "stdout",
     "output_type": "stream",
     "text": [
      "{'_id': 'movie:22',\n",
      " 'title': 'Godzilla',\n",
      " 'year': 1998,\n",
      " 'genre': 'Action',\n",
      " 'country': 'USA',\n",
      " 'director': {'_id': 'artist:58'}}\n"
     ]
    }
   ],
   "source": [
    "# commande Mongo:\n",
    "# db.movies.find ({\"title\": /la$/}, {\"actors\": 0, \"summary\": 0}).pretty()\n",
    "\n",
    "for movie in movies.find({\"title\":{\"$regex\":\"la$\"}},{\"actors\":0,\"summary\":0}):\n",
    "    pprint(movie, sort_dicts=False)"
   ]
  },
  {
   "cell_type": "raw",
   "metadata": {},
   "source": [
    "# Q : Combien de films ont été joués par l'acteur dont l'id est 147 et les afficher en se limitant au titre du film et la liste des acteurs ?"
   ]
  },
  {
   "cell_type": "code",
   "execution_count": 7,
   "metadata": {},
   "outputs": [
    {
     "name": "stdout",
     "output_type": "stream",
     "text": [
      "1 film a été joué par l'acteur dont l'id est 147\n",
      "{'title': 'Gladiator',\n",
      " 'actors': [{'_id': 'artist:23', 'role': 'Maximus'},\n",
      "            {'_id': 'artist:147', 'role': 'Commode'},\n",
      "            {'_id': 'artist:148', 'role': 'Lucilla'},\n",
      "            {'_id': 'artist:149', 'role': 'Marc Aurele'}]}\n"
     ]
    },
    {
     "name": "stderr",
     "output_type": "stream",
     "text": [
      "<ipython-input-7-72892c7f4826>:5: DeprecationWarning: count is deprecated. Use Collection.count_documents instead.\n",
      "  nb = movies.find({\"actors._id\":{\"$regex\":\"147$\"}}).count()\n"
     ]
    }
   ],
   "source": [
    "# commande Mongo:\n",
    "# db.movies.find({\"actors._id\":\"147$\"}).count()\n",
    "# db.movies.find({\"actors._id\":\"147$\"},{\"_id\":0, \"title\":1, \"actors\":1}).pretty()\n",
    "\n",
    "nb = movies.find({\"actors._id\":{\"$regex\":\"147$\"}}).count()\n",
    "print (nb,\"film a été joué par l'acteur dont l'id est 147\")\n",
    "\n",
    "for movie in movies.find({\"actors._id\":{\"$regex\":\"147$\"}},{\"_id\":0,\"title\":1,\"actors\":1}):\n",
    "    pprint(movie,sort_dicts=False)"
   ]
  },
  {
   "cell_type": "raw",
   "metadata": {},
   "source": [
    "Q : Retourner les films joués par l'acteur 147 sans les acteurs et sans le résumé ?"
   ]
  },
  {
   "cell_type": "code",
   "execution_count": 4,
   "metadata": {},
   "outputs": [
    {
     "name": "stdout",
     "output_type": "stream",
     "text": [
      "{'_id': 'movie:9',\n",
      " 'title': 'Gladiator',\n",
      " 'year': 2000,\n",
      " 'genre': 'drama',\n",
      " 'country': 'USA',\n",
      " 'director': {'_id': 'artist:4'}}\n"
     ]
    }
   ],
   "source": [
    "# commande Mongo:\n",
    "# db.movies.find({\"actors._id\":\"147$\"},{\"actors\":0,\"summary\":0}).pretty()\n",
    "\n",
    "for movie in movies.find({\"actors._id\":{\"$regex\":\"147$\"}},{\"actors\":0,\"summary\":0}):\n",
    "    pprint(movie,sort_dicts=False)"
   ]
  }
 ],
 "metadata": {
  "celltoolbar": "Aucun(e)",
  "kernelspec": {
   "display_name": "Python 3",
   "language": "python",
   "name": "python3"
  },
  "language_info": {
   "codemirror_mode": {
    "name": "ipython",
    "version": 3
   },
   "file_extension": ".py",
   "mimetype": "text/x-python",
   "name": "python",
   "nbconvert_exporter": "python",
   "pygments_lexer": "ipython3",
   "version": "3.8.3"
  }
 },
 "nbformat": 4,
 "nbformat_minor": 4
}
