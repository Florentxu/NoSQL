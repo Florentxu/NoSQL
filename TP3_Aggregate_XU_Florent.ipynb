{
 "cells": [
  {
   "cell_type": "code",
   "execution_count": 1,
   "metadata": {},
   "outputs": [],
   "source": [
    "from pymongo import MongoClient\n",
    "from pprint import pprint, pp"
   ]
  },
  {
   "cell_type": "code",
   "execution_count": 46,
   "metadata": {},
   "outputs": [
    {
     "name": "stdout",
     "output_type": "stream",
     "text": [
      "connexion success\n"
     ]
    }
   ],
   "source": [
    "client = MongoClient('mongodb://localhost:27017/')\n",
    "db = client.restaurant\n",
    "restaurants = db.restaurants\n",
    "print('connexion success')"
   ]
  },
  {
   "cell_type": "markdown",
   "metadata": {},
   "source": [
    "# Exercice  Aggréger des restaurants"
   ]
  },
  {
   "cell_type": "markdown",
   "metadata": {},
   "source": [
    "# Q : La répartition des restaurants par quartier ?"
   ]
  },
  {
   "cell_type": "raw",
   "metadata": {},
   "source": [
    "MongoDB:\n",
    "repart_resto_borough = {$group:{\"_id\": \"$borough\",\"nb_restaurant\":{$sum : 1}}}\n",
    "tri = {$sort : {\"_id\":1}}\n",
    "db.restaurants.aggregate([repart_resto_borough, tri])"
   ]
  },
  {
   "cell_type": "code",
   "execution_count": 15,
   "metadata": {},
   "outputs": [
    {
     "name": "stdout",
     "output_type": "stream",
     "text": [
      "{'_id': 'Bronx', 'nb_restaurant': 2338}\n",
      "{'_id': 'Brooklyn', 'nb_restaurant': 6085}\n",
      "{'_id': 'Manhattan', 'nb_restaurant': 10258}\n",
      "{'_id': 'Missing', 'nb_restaurant': 51}\n",
      "{'_id': 'Queens', 'nb_restaurant': 5656}\n",
      "{'_id': 'Staten Island', 'nb_restaurant': 969}\n"
     ]
    }
   ],
   "source": [
    "resto_borough = {\"$group\":{\"_id\": \"$borough\",\"nb_restaurant\":{\"$sum\" : 1}}}\n",
    "tri = {\"$sort\" : {\"_id\":1}}\n",
    "for restaurant in restaurants.aggregate([resto_borough,tri]):\n",
    "    print(restaurant)"
   ]
  },
  {
   "cell_type": "markdown",
   "metadata": {},
   "source": [
    "# Q : La répartition des restaurants dont la dernière inspection a donné un grade \"C\" par quartier ?"
   ]
  },
  {
   "cell_type": "raw",
   "metadata": {},
   "source": [
    "MongoDB:\n",
    "match_grade_C = { $match : {\"grades.0.grade\":\"C\"}}\n",
    "proj = {$project : {\"name\":1, \"borough\":1,\"_id\":0}}\n",
    "tri = {$sort : {\"_id\":1}}\n",
    "db.restaurants.aggregate([match_grade_C,proj,repart_resto_borough, tri])"
   ]
  },
  {
   "cell_type": "code",
   "execution_count": 17,
   "metadata": {},
   "outputs": [
    {
     "name": "stdout",
     "output_type": "stream",
     "text": [
      "{'_id': 'Bronx', 'nb_restaurant': 27}\n",
      "{'_id': 'Brooklyn', 'nb_restaurant': 56}\n",
      "{'_id': 'Manhattan', 'nb_restaurant': 83}\n",
      "{'_id': 'Queens', 'nb_restaurant': 47}\n",
      "{'_id': 'Staten Island', 'nb_restaurant': 7}\n"
     ]
    }
   ],
   "source": [
    "match_grade_C = { \"$match\" : {\"grades.0.grade\":\"C\"}}\n",
    "proj = {\"$project\" : {\"name\":1, \"borough\":1,\"_id\":0}}\n",
    "tri = {\"$sort\" : {\"_id\":1}}\n",
    "for restaurant in restaurants.aggregate([match_grade_C,proj,resto_borough, tri]):\n",
    "    pp(restaurant)"
   ]
  },
  {
   "cell_type": "markdown",
   "metadata": {},
   "source": [
    "# Q : Calculer le score moyen des resto par quartier et trier par score décroissant ?"
   ]
  },
  {
   "cell_type": "raw",
   "metadata": {},
   "source": [
    "MongoDB:\n",
    "eclater_liste = {$unwind : \"$grades\"}\n",
    "mean_quartier = {$group : {\"_id\":\"$borough\",\"moyenne\":{$avg:\"$grades.score\"}}}\n",
    "tri = {$sort: {\"moyenne\":-1}}\n",
    "db.restaurants.aggregate([eclater_liste, mean_quartier, tri])"
   ]
  },
  {
   "cell_type": "code",
   "execution_count": 47,
   "metadata": {
    "scrolled": true
   },
   "outputs": [
    {
     "name": "stdout",
     "output_type": "stream",
     "text": [
      "{'_id': 'Queens', 'moyenne': 11.634865110930088}\n",
      "{'_id': 'Brooklyn', 'moyenne': 11.447723132969035}\n",
      "{'_id': 'Manhattan', 'moyenne': 11.41823125728344}\n",
      "{'_id': 'Staten Island', 'moyenne': 11.370957711442786}\n",
      "{'_id': 'Bronx', 'moyenne': 11.036186099942562}\n",
      "{'_id': 'Missing', 'moyenne': 9.632911392405063}\n"
     ]
    }
   ],
   "source": [
    "eclater_liste = {\"$unwind\" : \"$grades\"}\n",
    "mean_quartier = {\"$group\" : {\"_id\":\"$borough\",\"moyenne\":{\"$avg\":\"$grades.score\"}}}\n",
    "tri = {\"$sort\": {\"moyenne\":-1}}\n",
    "for restaurant in restaurants.aggregate([eclater_liste, mean_quartier, tri]):\n",
    "    pp(restaurant)"
   ]
  },
  {
   "cell_type": "markdown",
   "metadata": {},
   "source": [
    "# Exercice  Aggréger des transactions"
   ]
  },
  {
   "cell_type": "code",
   "execution_count": 79,
   "metadata": {},
   "outputs": [],
   "source": [
    "db = client.restaurant\n",
    "transactions = db.transactions"
   ]
  },
  {
   "cell_type": "markdown",
   "metadata": {},
   "source": [
    "# Q-1. Calculer le montant total des paiements ?"
   ]
  },
  {
   "cell_type": "code",
   "execution_count": 32,
   "metadata": {},
   "outputs": [
    {
     "name": "stdout",
     "output_type": "stream",
     "text": [
      "{'_id': 'Payment Total', 'Total': 1230}\n"
     ]
    }
   ],
   "source": [
    "success = {\"$match\": {\"Payment.Success\":True}}\n",
    "total = {\"$group\":{\"_id\":\"Payment Total\",\"Total\":{\"$sum\":\"$Payment.Total\"}}}\n",
    "for transaction in transactions.aggregate([success,total]):\n",
    "    pp(transaction)"
   ]
  },
  {
   "cell_type": "markdown",
   "metadata": {},
   "source": [
    "# Q-2. Calculer le montant total par transactions (montant total du panier) ?"
   ]
  },
  {
   "cell_type": "code",
   "execution_count": 60,
   "metadata": {},
   "outputs": [
    {
     "name": "stdout",
     "output_type": "stream",
     "text": [
      "{'_id': 'tran1', 'Total': 410}\n",
      "{'_id': 'tran2', 'Total': 410}\n",
      "{'_id': 'tran4', 'Total': 410}\n",
      "{'_id': 'tran3', 'Total': 410}\n"
     ]
    }
   ],
   "source": [
    "liste_eclate = {\"$unwind\" : \"$Panier\"}\n",
    "total = {\"$group\":{\"_id\":\"$TransactionId\",\"Total\":{\"$sum\":\"$Panier.price\"}}}\n",
    "\n",
    "for transaction in transactions.aggregate([liste_eclate,total]):\n",
    "    pp(transaction)"
   ]
  },
  {
   "cell_type": "markdown",
   "metadata": {},
   "source": [
    "# Q-3. Calculate total payments (Payment.Total) for each payment type (Payment.Type) ?"
   ]
  },
  {
   "cell_type": "code",
   "execution_count": 40,
   "metadata": {},
   "outputs": [
    {
     "name": "stdout",
     "output_type": "stream",
     "text": [
      "{'_id': 'Credit-Card', 'Total': 820}\n",
      "{'_id': 'Debit-Card', 'Total': 410}\n"
     ]
    }
   ],
   "source": [
    "success = {\"$match\": {\"Payment.Success\":True}}\n",
    "total = {\"$group\":{\"_id\":\"$Payment.Type\",\"Total\":{\"$sum\":\"$Payment.Total\"}}}\n",
    "for transaction in transactions.aggregate([success,total]):\n",
    "    pp(transaction)"
   ]
  },
  {
   "cell_type": "markdown",
   "metadata": {},
   "source": [
    "# Q-4. Trouver l'Id le plus élevé."
   ]
  },
  {
   "cell_type": "code",
   "execution_count": 59,
   "metadata": {},
   "outputs": [
    {
     "name": "stdout",
     "output_type": "stream",
     "text": [
      "{'_id': ObjectId('6010003278f09db3ad0385b2'),\n",
      " 'Id': 102,\n",
      " 'Name': 'Margaret',\n",
      " 'TransactionId': 'tran3',\n",
      " 'Panier': [{'ItemId': 'a100', 'price': 200}, {'ItemId': 'a110', 'price': 210}],\n",
      " 'Subscriber': True,\n",
      " 'Payment': {'Type': 'Credit-Card', 'Total': 410, 'Success': True}}\n"
     ]
    }
   ],
   "source": [
    "tri = {\"$sort\": {\"_id\": -1}}\n",
    "limit = {\"$limit\": 1}\n",
    "for transaction in transactions.aggregate([tri,limit]):\n",
    "    pp(transaction)"
   ]
  },
  {
   "cell_type": "markdown",
   "metadata": {},
   "source": [
    "# Q-5. Find the max price (Transaction.price) ?"
   ]
  },
  {
   "cell_type": "code",
   "execution_count": 88,
   "metadata": {},
   "outputs": [
    {
     "name": "stdout",
     "output_type": "stream",
     "text": [
      "{'Panier': {'ItemId': 'a110', 'price': 210}}\n"
     ]
    }
   ],
   "source": [
    "tri = {\"$sort\":{\"Panier.price\":-1}}\n",
    "eclate = {\"$unwind\" : \"$Panier\"}\n",
    "limit = {\"$limit\":1}\n",
    "filtre = {\"$project\":{\"_id\":0,\"Panier\":1}}\n",
    "for transaction in transactions.aggregate([eclate,tri,filtre,limit]):\n",
    "    pp(transaction)"
   ]
  },
  {
   "cell_type": "markdown",
   "metadata": {},
   "source": [
    "# distinct"
   ]
  },
  {
   "cell_type": "code",
   "execution_count": 70,
   "metadata": {},
   "outputs": [],
   "source": [
    "db = client.db_agg\n",
    "people = db.people"
   ]
  },
  {
   "cell_type": "markdown",
   "metadata": {},
   "source": [
    "# Q : Age unique => distinct ?"
   ]
  },
  {
   "cell_type": "code",
   "execution_count": 74,
   "metadata": {},
   "outputs": [
    {
     "name": "stdout",
     "output_type": "stream",
     "text": [
      "20.0\n",
      "35.0\n",
      "60.0\n"
     ]
    }
   ],
   "source": [
    "for p in people.distinct(\"age\"):\n",
    "    pp(p)"
   ]
  },
  {
   "cell_type": "markdown",
   "metadata": {},
   "source": [
    "# Q : Peut-on faire un distinct sur plusieurs key ?"
   ]
  },
  {
   "cell_type": "code",
   "execution_count": 77,
   "metadata": {
    "scrolled": true
   },
   "outputs": [
    {
     "ename": "OperationFailure",
     "evalue": "MapReduce internal error :: caused by :: TypeError: this.tags is undefined :\n@:1:17\n, full error: {'ok': 0.0, 'errmsg': 'MapReduce internal error :: caused by :: TypeError: this.tags is undefined :\\n@:1:17\\n', 'code': 139, 'codeName': 'JSInterpreterFailure'}",
     "output_type": "error",
     "traceback": [
      "\u001b[1;31m---------------------------------------------------------------------------\u001b[0m",
      "\u001b[1;31mOperationFailure\u001b[0m                          Traceback (most recent call last)",
      "\u001b[1;32m<ipython-input-77-5b901510f165>\u001b[0m in \u001b[0;36m<module>\u001b[1;34m\u001b[0m\n\u001b[0;32m     13\u001b[0m                \u001b[1;34m\"  return total;\"\u001b[0m\u001b[1;33m\u001b[0m\u001b[1;33m\u001b[0m\u001b[0m\n\u001b[0;32m     14\u001b[0m                \"}\")\n\u001b[1;32m---> 15\u001b[1;33m \u001b[0mresult\u001b[0m \u001b[1;33m=\u001b[0m \u001b[0mpeople\u001b[0m\u001b[1;33m.\u001b[0m\u001b[0mmap_reduce\u001b[0m\u001b[1;33m(\u001b[0m\u001b[0mmap\u001b[0m\u001b[1;33m,\u001b[0m \u001b[0mreduce\u001b[0m\u001b[1;33m,\u001b[0m \u001b[1;34m\"myresults\"\u001b[0m\u001b[1;33m)\u001b[0m\u001b[1;33m\u001b[0m\u001b[1;33m\u001b[0m\u001b[0m\n\u001b[0m\u001b[0;32m     16\u001b[0m \u001b[1;32mfor\u001b[0m \u001b[0mdoc\u001b[0m \u001b[1;32min\u001b[0m \u001b[0mresult\u001b[0m\u001b[1;33m.\u001b[0m\u001b[0mfind\u001b[0m\u001b[1;33m(\u001b[0m\u001b[1;33m)\u001b[0m\u001b[1;33m:\u001b[0m\u001b[1;33m\u001b[0m\u001b[1;33m\u001b[0m\u001b[0m\n\u001b[0;32m     17\u001b[0m     \u001b[0mpp\u001b[0m\u001b[1;33m(\u001b[0m\u001b[0mdoc\u001b[0m\u001b[1;33m)\u001b[0m\u001b[1;33m\u001b[0m\u001b[1;33m\u001b[0m\u001b[0m\n",
      "\u001b[1;32m~\\anaconda3\\lib\\site-packages\\pymongo\\collection.py\u001b[0m in \u001b[0;36mmap_reduce\u001b[1;34m(self, map, reduce, out, full_response, session, **kwargs)\u001b[0m\n\u001b[0;32m   2848\u001b[0m                             \"%s or a mapping\" % (string_type.__name__,))\n\u001b[0;32m   2849\u001b[0m \u001b[1;33m\u001b[0m\u001b[0m\n\u001b[1;32m-> 2850\u001b[1;33m         response = self._map_reduce(map, reduce, out, session,\n\u001b[0m\u001b[0;32m   2851\u001b[0m                                     ReadPreference.PRIMARY, **kwargs)\n\u001b[0;32m   2852\u001b[0m \u001b[1;33m\u001b[0m\u001b[0m\n",
      "\u001b[1;32m~\\anaconda3\\lib\\site-packages\\pymongo\\collection.py\u001b[0m in \u001b[0;36m_map_reduce\u001b[1;34m(self, map, reduce, out, session, read_pref, **kwargs)\u001b[0m\n\u001b[0;32m   2782\u001b[0m                 \u001b[0mwrite_concern\u001b[0m \u001b[1;33m=\u001b[0m \u001b[1;32mNone\u001b[0m\u001b[1;33m\u001b[0m\u001b[1;33m\u001b[0m\u001b[0m\n\u001b[0;32m   2783\u001b[0m \u001b[1;33m\u001b[0m\u001b[0m\n\u001b[1;32m-> 2784\u001b[1;33m             return self._command(\n\u001b[0m\u001b[0;32m   2785\u001b[0m                 \u001b[0msock_info\u001b[0m\u001b[1;33m,\u001b[0m \u001b[0mcmd\u001b[0m\u001b[1;33m,\u001b[0m \u001b[0mslave_ok\u001b[0m\u001b[1;33m,\u001b[0m \u001b[0mread_pref\u001b[0m\u001b[1;33m,\u001b[0m\u001b[1;33m\u001b[0m\u001b[1;33m\u001b[0m\u001b[0m\n\u001b[0;32m   2786\u001b[0m                 \u001b[0mread_concern\u001b[0m\u001b[1;33m=\u001b[0m\u001b[0mread_concern\u001b[0m\u001b[1;33m,\u001b[0m\u001b[1;33m\u001b[0m\u001b[1;33m\u001b[0m\u001b[0m\n",
      "\u001b[1;32m~\\anaconda3\\lib\\site-packages\\pymongo\\collection.py\u001b[0m in \u001b[0;36m_command\u001b[1;34m(self, sock_info, command, slave_ok, read_preference, codec_options, check, allowable_errors, read_concern, write_concern, collation, session, retryable_write, user_fields)\u001b[0m\n\u001b[0;32m    236\u001b[0m         \"\"\"\n\u001b[0;32m    237\u001b[0m         \u001b[1;32mwith\u001b[0m \u001b[0mself\u001b[0m\u001b[1;33m.\u001b[0m\u001b[0m__database\u001b[0m\u001b[1;33m.\u001b[0m\u001b[0mclient\u001b[0m\u001b[1;33m.\u001b[0m\u001b[0m_tmp_session\u001b[0m\u001b[1;33m(\u001b[0m\u001b[0msession\u001b[0m\u001b[1;33m)\u001b[0m \u001b[1;32mas\u001b[0m \u001b[0ms\u001b[0m\u001b[1;33m:\u001b[0m\u001b[1;33m\u001b[0m\u001b[1;33m\u001b[0m\u001b[0m\n\u001b[1;32m--> 238\u001b[1;33m             return sock_info.command(\n\u001b[0m\u001b[0;32m    239\u001b[0m                 \u001b[0mself\u001b[0m\u001b[1;33m.\u001b[0m\u001b[0m__database\u001b[0m\u001b[1;33m.\u001b[0m\u001b[0mname\u001b[0m\u001b[1;33m,\u001b[0m\u001b[1;33m\u001b[0m\u001b[1;33m\u001b[0m\u001b[0m\n\u001b[0;32m    240\u001b[0m                 \u001b[0mcommand\u001b[0m\u001b[1;33m,\u001b[0m\u001b[1;33m\u001b[0m\u001b[1;33m\u001b[0m\u001b[0m\n",
      "\u001b[1;32m~\\anaconda3\\lib\\site-packages\\pymongo\\pool.py\u001b[0m in \u001b[0;36mcommand\u001b[1;34m(self, dbname, spec, slave_ok, read_preference, codec_options, check, allowable_errors, check_keys, read_concern, write_concern, parse_write_concern_error, collation, session, client, retryable_write, publish_events, user_fields, exhaust_allowed)\u001b[0m\n\u001b[0;32m    681\u001b[0m             \u001b[0mself\u001b[0m\u001b[1;33m.\u001b[0m\u001b[0m_raise_if_not_writable\u001b[0m\u001b[1;33m(\u001b[0m\u001b[0munacknowledged\u001b[0m\u001b[1;33m)\u001b[0m\u001b[1;33m\u001b[0m\u001b[1;33m\u001b[0m\u001b[0m\n\u001b[0;32m    682\u001b[0m         \u001b[1;32mtry\u001b[0m\u001b[1;33m:\u001b[0m\u001b[1;33m\u001b[0m\u001b[1;33m\u001b[0m\u001b[0m\n\u001b[1;32m--> 683\u001b[1;33m             return command(self, dbname, spec, slave_ok,\n\u001b[0m\u001b[0;32m    684\u001b[0m                            \u001b[0mself\u001b[0m\u001b[1;33m.\u001b[0m\u001b[0mis_mongos\u001b[0m\u001b[1;33m,\u001b[0m \u001b[0mread_preference\u001b[0m\u001b[1;33m,\u001b[0m \u001b[0mcodec_options\u001b[0m\u001b[1;33m,\u001b[0m\u001b[1;33m\u001b[0m\u001b[1;33m\u001b[0m\u001b[0m\n\u001b[0;32m    685\u001b[0m                            \u001b[0msession\u001b[0m\u001b[1;33m,\u001b[0m \u001b[0mclient\u001b[0m\u001b[1;33m,\u001b[0m \u001b[0mcheck\u001b[0m\u001b[1;33m,\u001b[0m \u001b[0mallowable_errors\u001b[0m\u001b[1;33m,\u001b[0m\u001b[1;33m\u001b[0m\u001b[1;33m\u001b[0m\u001b[0m\n",
      "\u001b[1;32m~\\anaconda3\\lib\\site-packages\\pymongo\\network.py\u001b[0m in \u001b[0;36mcommand\u001b[1;34m(sock_info, dbname, spec, slave_ok, is_mongos, read_preference, codec_options, session, client, check, allowable_errors, address, check_keys, listeners, max_bson_size, read_concern, parse_write_concern_error, collation, compression_ctx, use_op_msg, unacknowledged, user_fields, exhaust_allowed)\u001b[0m\n\u001b[0;32m    157\u001b[0m                 \u001b[0mclient\u001b[0m\u001b[1;33m.\u001b[0m\u001b[0m_process_response\u001b[0m\u001b[1;33m(\u001b[0m\u001b[0mresponse_doc\u001b[0m\u001b[1;33m,\u001b[0m \u001b[0msession\u001b[0m\u001b[1;33m)\u001b[0m\u001b[1;33m\u001b[0m\u001b[1;33m\u001b[0m\u001b[0m\n\u001b[0;32m    158\u001b[0m             \u001b[1;32mif\u001b[0m \u001b[0mcheck\u001b[0m\u001b[1;33m:\u001b[0m\u001b[1;33m\u001b[0m\u001b[1;33m\u001b[0m\u001b[0m\n\u001b[1;32m--> 159\u001b[1;33m                 helpers._check_command_response(\n\u001b[0m\u001b[0;32m    160\u001b[0m                     \u001b[0mresponse_doc\u001b[0m\u001b[1;33m,\u001b[0m \u001b[0msock_info\u001b[0m\u001b[1;33m.\u001b[0m\u001b[0mmax_wire_version\u001b[0m\u001b[1;33m,\u001b[0m \u001b[0mallowable_errors\u001b[0m\u001b[1;33m,\u001b[0m\u001b[1;33m\u001b[0m\u001b[1;33m\u001b[0m\u001b[0m\n\u001b[0;32m    161\u001b[0m                     parse_write_concern_error=parse_write_concern_error)\n",
      "\u001b[1;32m~\\anaconda3\\lib\\site-packages\\pymongo\\helpers.py\u001b[0m in \u001b[0;36m_check_command_response\u001b[1;34m(response, max_wire_version, allowable_errors, parse_write_concern_error)\u001b[0m\n\u001b[0;32m    158\u001b[0m         \u001b[1;32mraise\u001b[0m \u001b[0mCursorNotFound\u001b[0m\u001b[1;33m(\u001b[0m\u001b[0merrmsg\u001b[0m\u001b[1;33m,\u001b[0m \u001b[0mcode\u001b[0m\u001b[1;33m,\u001b[0m \u001b[0mresponse\u001b[0m\u001b[1;33m,\u001b[0m \u001b[0mmax_wire_version\u001b[0m\u001b[1;33m)\u001b[0m\u001b[1;33m\u001b[0m\u001b[1;33m\u001b[0m\u001b[0m\n\u001b[0;32m    159\u001b[0m \u001b[1;33m\u001b[0m\u001b[0m\n\u001b[1;32m--> 160\u001b[1;33m     \u001b[1;32mraise\u001b[0m \u001b[0mOperationFailure\u001b[0m\u001b[1;33m(\u001b[0m\u001b[0merrmsg\u001b[0m\u001b[1;33m,\u001b[0m \u001b[0mcode\u001b[0m\u001b[1;33m,\u001b[0m \u001b[0mresponse\u001b[0m\u001b[1;33m,\u001b[0m \u001b[0mmax_wire_version\u001b[0m\u001b[1;33m)\u001b[0m\u001b[1;33m\u001b[0m\u001b[1;33m\u001b[0m\u001b[0m\n\u001b[0m\u001b[0;32m    161\u001b[0m \u001b[1;33m\u001b[0m\u001b[0m\n\u001b[0;32m    162\u001b[0m \u001b[1;33m\u001b[0m\u001b[0m\n",
      "\u001b[1;31mOperationFailure\u001b[0m: MapReduce internal error :: caused by :: TypeError: this.tags is undefined :\n@:1:17\n, full error: {'ok': 0.0, 'errmsg': 'MapReduce internal error :: caused by :: TypeError: this.tags is undefined :\\n@:1:17\\n', 'code': 139, 'codeName': 'JSInterpreterFailure'}"
     ]
    }
   ],
   "source": [
    "from bson.code import Code\n",
    "map = Code(\"function () {\"\n",
    "            \"  this.tags.forEach(function(z) {\"\n",
    "            \"    emit(z, 1);\"\n",
    "            \"  });\"\n",
    "            \"}\")\n",
    "\n",
    "reduce = Code(\"function (key, values) {\"\n",
    "               \"  var total = 0;\"\n",
    "               \"  for (var i = 0; i < values.length; i++) {\"\n",
    "               \"    total += values[i];\"\n",
    "               \"  }\"\n",
    "               \"  return total;\"\n",
    "               \"}\")\n",
    "\n",
    "result = people.map_reduce(map, reduce, \"myresults\")\n",
    "for doc in result.find():\n",
    "    pp(doc)\n"
   ]
  }
 ],
 "metadata": {
  "kernelspec": {
   "display_name": "Python 3",
   "language": "python",
   "name": "python3"
  },
  "language_info": {
   "codemirror_mode": {
    "name": "ipython",
    "version": 3
   },
   "file_extension": ".py",
   "mimetype": "text/x-python",
   "name": "python",
   "nbconvert_exporter": "python",
   "pygments_lexer": "ipython3",
   "version": "3.8.3"
  }
 },
 "nbformat": 4,
 "nbformat_minor": 4
}
